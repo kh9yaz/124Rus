{
  "cells": [
    {
      "cell_type": "markdown",
      "metadata": {
        "id": "view-in-github",
        "colab_type": "text"
      },
      "source": [
        "<a href=\"https://colab.research.google.com/github/kh9yaz/124Rus/blob/master/Task1.ipynb\" target=\"_parent\"><img src=\"https://colab.research.google.com/assets/colab-badge.svg\" alt=\"Open In Colab\"/></a>"
      ]
    },
    {
      "cell_type": "markdown",
      "metadata": {
        "id": "l69d152CRxtC"
      },
      "source": [
        "# Методы оптимизации"
      ]
    },
    {
      "cell_type": "markdown",
      "metadata": {
        "id": "0NOcXyaxRxtF"
      },
      "source": [
        "## Основы оптимизации\n",
        "\n",
        "В этой работе мы рассмотрим основы оптимизации, для чего она используется, и рассмотрим базовые подходы,а так же познакомимся с возможностями Jupyter Notebook и Google Colab."
      ]
    },
    {
      "cell_type": "markdown",
      "metadata": {
        "id": "2X-CrzmRRxtG"
      },
      "source": [
        "## Задача\n",
        "\n",
        "Рассмотрим простую задачу для оптимизации. Начем с примера, рассмотренного в [статье](https://habr.com/ru/post/517056/).\n",
        "\n",
        "Необходимо минимизировать функцию\n",
        "\n",
        "$$\n",
        "f(x) = 1.3 \\cdot (x - y)^2 + 0.7 \\cdot (x + y)^2\n",
        "$$\n",
        "\n",
        "используя [метод случайного поиска с вовзратом при неудачном шаге](https://studfile.net/preview/2152158/page:10/)"
      ]
    },
    {
      "cell_type": "raw",
      "metadata": {
        "id": "veZOD5m1RxtG"
      },
      "source": [
        "Для оптимизации и представления результата воспользуемся средствами визуализации Jupyter Notebook, расмотренными в [статье](https://habr.com/ru/post/517056/).\n",
        "\n",
        "Добавим виджеты Jupyter Notebook и функции, необходимые для анимации процесса поиска оптимального решения:"
      ]
    },
    {
      "cell_type": "markdown",
      "metadata": {
        "id": "eyUTTrPCRxtG"
      },
      "source": [
        "## Внимание!\n",
        "Как [выяснилось](https://colab.research.google.com/drive/14uWejf0v1DII-CfcY48bl06i2zlSx-hl), интерактивность не поддерживается в Google Colab"
      ]
    },
    {
      "cell_type": "code",
      "execution_count": null,
      "metadata": {
        "id": "WdMCH88rRxtH"
      },
      "outputs": [],
      "source": [
        "from IPython.display import HTML\n",
        "# подключаем модули Jupyter Notebook для взаимодействия с пользователем\n",
        "from ipywidgets import interact, interactive, fixed, interact_manual\n",
        "import ipywidgets as widgets\n",
        "from IPython.display import display\n",
        "\n",
        "# пдключаем модули для расчетов и рисования графиков\n",
        "import numpy as np\n",
        "import matplotlib.pyplot as plt\n",
        "\n",
        "\n",
        "# Служебная функция\n",
        "# Возврашает элемент массива, переданного ей в качестве первого параметра с указанным номером\n",
        "def step_slice(lst, step):\n",
        "    return lst[step]\n",
        "\n",
        "\n",
        "# Функция анимации. Именно она будет рисовать последовательность шагов\n",
        "def animate_list(lst, play=False, interval=200):\n",
        "    slider = widgets.IntSlider(min=0, max=len(lst) - 1, step=1, value=0)\n",
        "    if play:\n",
        "        play_widjet = widgets.Play(interval=interval)\n",
        "        widgets.jslink((play_widjet, 'value'), (slider, 'value'))\n",
        "        display(play_widjet)\n",
        "    return interact(step_slice, lst=fixed(lst), step=slider)\n",
        "\n",
        "\n",
        "# Отрисовка траектории и линий уровня функции\n",
        "def plot_trajectory(func, traj, limit_point=None):\n",
        "    # Добавим график, в ктором будем рисовать\n",
        "    fig = plt.figure(figsize=(7, 7))\n",
        "    ax = fig.add_axes([0, 0, 1, 1])\n",
        "\n",
        "    # Если задаа финальная точка, обозначим ее зеленым кружком\n",
        "    if limit_point:\n",
        "        ax.plot([limit_point[0]], [limit_point[1]], 'o', color='green')\n",
        "\n",
        "    delta = 0.025\n",
        "    x = np.arange(-2, 2, delta)  # диапазон значений по x\n",
        "    y = np.arange(-2, 2, delta)  # и по y соответственно\n",
        "    X, Y = np.meshgrid(x, y)  # пространственная сетка по указанным диапазонам значений\n",
        "\n",
        "    # вычисление значений функции во всех узлах сетки, необходимо для рисования изолиний на графике\n",
        "    Z = np.zeros_like(X)\n",
        "    for i in range(X.shape[0]):\n",
        "        for j in range(X.shape[1]):\n",
        "            Z[i][j] = func(X[i][j], Y[i][j])\n",
        "    # создание контуров изолиний по заданным значениям функции\n",
        "    CS = ax.contour(X, Y, Z, [0.5, 1.5, 3], colors=['blue', 'purple', 'red'])  # значения функции, для которых будут нарисованы изолинии, и соответствующие им цвета\n",
        "    ax.plot([u[0] for u in traj], [u[1] for u in traj], color='black')  # рисование всех линий траектории\n",
        "    ax.plot([u[0] for u in traj], [u[1] for u in traj], 'o', color='black')  # и соответствующих им точек\n",
        "\n",
        "    plt.close(fig)\n",
        "    return fig"
      ]
    },
    {
      "cell_type": "markdown",
      "metadata": {
        "id": "8TLTxPfbRxtI"
      },
      "source": [
        "Опишем функцию, которую хотим минимизировать, и собственно алгоритм минимизации"
      ]
    },
    {
      "cell_type": "code",
      "execution_count": null,
      "metadata": {
        "colab": {
          "referenced_widgets": [
            "f4dd521c42694ed5aa246a24df402059",
            "6a6f45055b9243159948cad62a57a817"
          ]
        },
        "id": "Uo0XJ2dARxtI",
        "outputId": "6d87a9dc-4dea-4eeb-dc97-e4a92f5a5602"
      },
      "outputs": [
        {
          "data": {
            "application/vnd.jupyter.widget-view+json": {
              "model_id": "f4dd521c42694ed5aa246a24df402059",
              "version_major": 2,
              "version_minor": 0
            },
            "text/plain": [
              "Play(value=0, interval=300)"
            ]
          },
          "metadata": {},
          "output_type": "display_data"
        },
        {
          "data": {
            "application/vnd.jupyter.widget-view+json": {
              "model_id": "6a6f45055b9243159948cad62a57a817",
              "version_major": 2,
              "version_minor": 0
            },
            "text/plain": [
              "interactive(children=(IntSlider(value=0, description='step', max=49), Output()), _dom_classes=('widget-interac…"
            ]
          },
          "metadata": {},
          "output_type": "display_data"
        }
      ],
      "source": [
        "display(HTML('<link rel=\"stylesheet\" href=\"//stackpath.bootstrapcdn.com/font-awesome/4.7.0/css/font-awesome.min.css\"/>'))\n",
        "# Функция, которую минимизируем, минимум в точке (0, 0)\n",
        "def f(x, y):\n",
        "    return 1.3 * (x - y) ** 2 + 0.7 * (x + y) ** 2\n",
        "\n",
        "x, y = (1.0, 1.0)  # начальная точка\n",
        "num_iters = 50  # число шагов алгоритма (не факт, что минимум будет достигнут)\n",
        "trajectory = [(x, y)]  # траектория пока состоит только из начальной точки\n",
        "plots = []  # шаги алгоритма, которые будут анимированы, пока их нет\n",
        "\n",
        "# Собственно алгоритм\n",
        "for i in range(num_iters):  # выполняем num_iters шагов\n",
        "    angle = 2 * np.pi * np.random.rand(1)  # случайным образом выбираем направленние движения\n",
        "    dx, dy = (np.cos(angle)[0] / 2 / (i + 1) ** 0.5, np.sin(angle)[0] / 2 / (i + 1) ** 0.5)  # находим смещение\n",
        "\n",
        "    trajectory.append((x + dx, y + dy))  # добавляем очередную найденую точку к таектории\n",
        "    plots.append(plot_trajectory(f, trajectory, limit_point=(0, 0)))  # добавляем шаг работы алгоритма, который надо нарисовать в анимации\n",
        "\n",
        "    if f(x, y) > f(x + dx, y + dy):  # если в выбранной точке значение целевой функции меньше, чем в предыдущей...\n",
        "        x = x + dx  # перемещаемся\n",
        "        y = y + dy  # в нее\n",
        "    else:\n",
        "        trajectory = trajectory[:-1]  # иначе вернемся на шаг назад\n",
        "\n",
        "animate_list(plots, play=True, interval=300);  # выводим все наши шаги в виде анимации"
      ]
    },
    {
      "cell_type": "code",
      "execution_count": null,
      "metadata": {
        "id": "Cfahe5csRxtJ"
      },
      "outputs": [],
      "source": []
    },
    {
      "cell_type": "markdown",
      "metadata": {
        "id": "yie3T12rRxtJ"
      },
      "source": [
        "Вам необходимо выполнить следующие задачи:\n",
        "\n",
        "1. Изменить алгоритм таким образом, чтобы останов алгоритма происходил:\n",
        "    * при достижении заданной точности, или\n",
        "    * по выполнению заданного числа шагов (в приведенной выше программе использовано только это условие)\n",
        "2. Реализовать [алгоритм покоординатного спуска](http://www.machinelearning.ru/wiki/index.php?title=Метод_покоординатного_спуска) и анимацию его работы для той же функции\n",
        "\n",
        "Для вашего удобства код алгоритма продублирован без изменений ниже для каждого из пунктов заданий. Вам необходимо модифицировать его в соответствии с указанным заданием."
      ]
    },
    {
      "cell_type": "markdown",
      "metadata": {
        "id": "LP4MipRGRxtJ"
      },
      "source": [
        "1. Изменить алгоритм таким образом, чтобы останов алгоритма происходил при достижении заданной точности, или по выполнению заданного числа шагов"
      ]
    },
    {
      "cell_type": "code",
      "execution_count": 30,
      "metadata": {
        "colab": {
          "base_uri": "https://localhost:8080/",
          "height": 841,
          "referenced_widgets": [
            "1b31fa7c86ec4b848a2041feab4f1efd",
            "efea558750f448d983ad270f7efbcb72",
            "794df3864cc54a31b006077571237fea",
            "d2a3e070bc864e35bc8d210c5ba16fbd",
            "0078eeb5e6f94e5abe8bd1ec36114517",
            "3c105408ece7461fa29ec29f5e6cf492",
            "bc7ada24234243449c9b4962c33a6b84",
            "7eaa96c7e45e4cde81863ced4603d44c",
            "358328b333d843d4af5a09a61a048683",
            "025fabf792894c9d83e2dcca414051be"
          ]
        },
        "id": "-ErerrQlRxtK",
        "outputId": "7bd769f3-ae69-4b7e-b688-549bde0a8a04"
      },
      "outputs": [
        {
          "output_type": "stream",
          "name": "stdout",
          "text": [
            "Достигнут лимит количества шагов\n"
          ]
        },
        {
          "output_type": "display_data",
          "data": {
            "text/plain": [
              "Play(value=0, interval=300)"
            ],
            "application/vnd.jupyter.widget-view+json": {
              "version_major": 2,
              "version_minor": 0,
              "model_id": "1b31fa7c86ec4b848a2041feab4f1efd"
            }
          },
          "metadata": {}
        },
        {
          "output_type": "display_data",
          "data": {
            "text/plain": [
              "interactive(children=(IntSlider(value=0, description='step', max=45), Output()), _dom_classes=('widget-interac…"
            ],
            "application/vnd.jupyter.widget-view+json": {
              "version_major": 2,
              "version_minor": 0,
              "model_id": "bc7ada24234243449c9b4962c33a6b84"
            }
          },
          "metadata": {}
        }
      ],
      "source": [
        "x, y = (1.0, 1.0)  # начальная точка\n",
        "num_iters = 50  # число шагов алгоритма (не факт, что минимум будет достигнут)\n",
        "trajectory = [(x, y)]  # траектория пока состоит только из начальной точки\n",
        "plots = []  # шаги алгоритма, которые будут анимированы, пока их нет\n",
        "number_of_steps = 45\n",
        "precision = 0.0015\n",
        "\n",
        "# Собственно алгоритм\n",
        "for i in range(num_iters):  # выполняем num_iters шагов\n",
        "    angle = 2 * np.pi * np.random.rand(1)  # случайным образом выбираем направленние движения\n",
        "    dx, dy = (np.cos(angle)[0] / 2 / (i + 1) ** 0.5, np.sin(angle)[0] / 2 / (i + 1) ** 0.5)  # находим смещение\n",
        "\n",
        "    trajectory.append((x + dx, y + dy))  # добавляем очередную найденую точку к таектории\n",
        "    plots.append(plot_trajectory(f, trajectory, limit_point=(0, 0)))  # добавляем шаг работы алгоритма, который надо нарисовать в анимации\n",
        "\n",
        "    if f(x, y) > f(x + dx, y + dy):  # если в выбранной точке значение целевой функции меньше, чем в предыдущей...\n",
        "        x = x + dx  # перемещаемся\n",
        "        y = y + dy  # в нее\n",
        "    else:\n",
        "        trajectory = trajectory[:-1]  # иначе вернемся на шаг назад\n",
        "\n",
        "    if abs(f(x, y) - f(x + dx, y + dy)) <= precision:\n",
        "     print ('Необходимая точность достигнута')\n",
        "     break\n",
        "\n",
        "    if i >= number_of_steps:\n",
        "      print('Достигнут лимит количества шагов')\n",
        "      break\n",
        "\n",
        "\n",
        "\n",
        "animate_list(plots, play=True, interval=300);  # выводим все наши шаги в виде анимации"
      ]
    },
    {
      "cell_type": "markdown",
      "metadata": {
        "id": "GRZt67t2RxtK"
      },
      "source": [
        "2. Реализовать [алгоритм покоординатного спуска](http://www.machinelearning.ru/wiki/index.php?title=Метод_покоординатного_спуска) и анимацию его работы"
      ]
    },
    {
      "cell_type": "code",
      "execution_count": 29,
      "metadata": {
        "colab": {
          "base_uri": "https://localhost:8080/",
          "height": 824,
          "referenced_widgets": [
            "7e9c2997656441dfaa27dadcea289208",
            "2cd21374ebe2456596dedd79d874941e",
            "3a58365222d644a1bd631cb3f09b9133",
            "7b7b3b8d8f564504b13bec8f91e5da42",
            "468802455b7640fcb996056d3dc84a4a",
            "9a75d7e798b748bba45d7ee1bf8bbfad",
            "6da8e9431a53442c8e14fbb7e2b80589",
            "1d5b5b39b8564365bb64dee71c0603c0",
            "c9f233382b7a4ef984d5536c0ae57133",
            "6f5d1f61932e427ba4f5c8369d5aca13"
          ]
        },
        "id": "-Gv17RfiRxtK",
        "outputId": "0db6fa8c-2743-4d21-d1b2-c4721f607778"
      },
      "outputs": [
        {
          "output_type": "display_data",
          "data": {
            "text/plain": [
              "Play(value=0, interval=300)"
            ],
            "application/vnd.jupyter.widget-view+json": {
              "version_major": 2,
              "version_minor": 0,
              "model_id": "7e9c2997656441dfaa27dadcea289208"
            }
          },
          "metadata": {}
        },
        {
          "output_type": "display_data",
          "data": {
            "text/plain": [
              "interactive(children=(IntSlider(value=0, description='step', max=49), Output()), _dom_classes=('widget-interac…"
            ],
            "application/vnd.jupyter.widget-view+json": {
              "version_major": 2,
              "version_minor": 0,
              "model_id": "6da8e9431a53442c8e14fbb7e2b80589"
            }
          },
          "metadata": {}
        }
      ],
      "source": [
        "x, y = (1.0, 1.0)  # начальная точка\n",
        "num_iters = 50  # число шагов алгоритма (не факт, что минимум будет достигнут)\n",
        "trajectory = [(x, y)]  # траектория пока состоит только из начальной точки\n",
        "plots = []  # шаги алгоритма, которые будут анимированы, пока их нет\n",
        "\n",
        "# Собственно алгоритм\n",
        "for i in range(num_iters):  # выполняем num_iters шагов\n",
        "    opt_var = 0\n",
        "    angle = 2 * np.pi * np.random.rand(1)  # случайным образом выбираем направленние движения\n",
        "    dx, dy = (np.cos(angle)[0] / 2 / (i + 1) ** 0.5, np.sin(angle)[0] / 2 / (i + 1) ** 0.5)  # находим смещение\n",
        "\n",
        "    if opt_var == 0:\n",
        "      new_step = (x+ dx, y)\n",
        "      trajectory.append(new_step)\n",
        "    elif opt_var == 1:\n",
        "      new_step = (x, y + dy)\n",
        "      trajectory.append(new_step)\n",
        "\n",
        "    plots.append(plot_trajectory(f, trajectory, limit_point=(0, 0)))  # добавляем шаг работы алгоритма, который надо нарисовать в анимации\n",
        "\n",
        "    if f(x, y) > f(new_step[0], new_step[1]):  # если в выбранной точке значение целевой функции меньше, чем в предыдущей...\n",
        "        x = x + dx  # перемещаемся\n",
        "        y = y + dy  # в нее\n",
        "    else:\n",
        "        trajectory = trajectory[:-1]  # иначе вернемся на шаг назад\n",
        "        opt_var = 1 - opt_var\n",
        "\n",
        "animate_list(plots, play=True, interval=300);  # выводим все наши шаги в виде анимации"
      ]
    }
  ],
  "metadata": {
    "kernelspec": {
      "display_name": "Python 3",
      "language": "python",
      "name": "python3"
    },
    "language_info": {
      "codemirror_mode": {
        "name": "ipython",
        "version": 3
      },
      "file_extension": ".py",
      "mimetype": "text/x-python",
      "name": "python",
      "nbconvert_exporter": "python",
      "pygments_lexer": "ipython3",
      "version": "3.8.5"
    },
    "colab": {
      "provenance": [],
      "include_colab_link": true
    },
    "widgets": {
      "application/vnd.jupyter.widget-state+json": {
        "1b31fa7c86ec4b848a2041feab4f1efd": {
          "model_module": "@jupyter-widgets/controls",
          "model_name": "PlayModel",
          "model_module_version": "1.5.0",
          "state": {
            "_dom_classes": [],
            "_model_module": "@jupyter-widgets/controls",
            "_model_module_version": "1.5.0",
            "_model_name": "PlayModel",
            "_playing": false,
            "_repeat": false,
            "_view_count": null,
            "_view_module": "@jupyter-widgets/controls",
            "_view_module_version": "1.5.0",
            "_view_name": "PlayView",
            "description": "",
            "description_tooltip": null,
            "disabled": false,
            "interval": 300,
            "layout": "IPY_MODEL_794df3864cc54a31b006077571237fea",
            "max": 100,
            "min": 0,
            "show_repeat": true,
            "step": 1,
            "style": "IPY_MODEL_d2a3e070bc864e35bc8d210c5ba16fbd",
            "value": 45
          }
        },
        "efea558750f448d983ad270f7efbcb72": {
          "model_module": "@jupyter-widgets/controls",
          "model_name": "IntSliderModel",
          "model_module_version": "1.5.0",
          "state": {
            "_dom_classes": [],
            "_model_module": "@jupyter-widgets/controls",
            "_model_module_version": "1.5.0",
            "_model_name": "IntSliderModel",
            "_view_count": null,
            "_view_module": "@jupyter-widgets/controls",
            "_view_module_version": "1.5.0",
            "_view_name": "IntSliderView",
            "continuous_update": true,
            "description": "step",
            "description_tooltip": null,
            "disabled": false,
            "layout": "IPY_MODEL_0078eeb5e6f94e5abe8bd1ec36114517",
            "max": 45,
            "min": 0,
            "orientation": "horizontal",
            "readout": true,
            "readout_format": "d",
            "step": 1,
            "style": "IPY_MODEL_3c105408ece7461fa29ec29f5e6cf492",
            "value": 45
          }
        },
        "794df3864cc54a31b006077571237fea": {
          "model_module": "@jupyter-widgets/base",
          "model_name": "LayoutModel",
          "model_module_version": "1.2.0",
          "state": {
            "_model_module": "@jupyter-widgets/base",
            "_model_module_version": "1.2.0",
            "_model_name": "LayoutModel",
            "_view_count": null,
            "_view_module": "@jupyter-widgets/base",
            "_view_module_version": "1.2.0",
            "_view_name": "LayoutView",
            "align_content": null,
            "align_items": null,
            "align_self": null,
            "border": null,
            "bottom": null,
            "display": null,
            "flex": null,
            "flex_flow": null,
            "grid_area": null,
            "grid_auto_columns": null,
            "grid_auto_flow": null,
            "grid_auto_rows": null,
            "grid_column": null,
            "grid_gap": null,
            "grid_row": null,
            "grid_template_areas": null,
            "grid_template_columns": null,
            "grid_template_rows": null,
            "height": null,
            "justify_content": null,
            "justify_items": null,
            "left": null,
            "margin": null,
            "max_height": null,
            "max_width": null,
            "min_height": null,
            "min_width": null,
            "object_fit": null,
            "object_position": null,
            "order": null,
            "overflow": null,
            "overflow_x": null,
            "overflow_y": null,
            "padding": null,
            "right": null,
            "top": null,
            "visibility": null,
            "width": null
          }
        },
        "d2a3e070bc864e35bc8d210c5ba16fbd": {
          "model_module": "@jupyter-widgets/controls",
          "model_name": "DescriptionStyleModel",
          "model_module_version": "1.5.0",
          "state": {
            "_model_module": "@jupyter-widgets/controls",
            "_model_module_version": "1.5.0",
            "_model_name": "DescriptionStyleModel",
            "_view_count": null,
            "_view_module": "@jupyter-widgets/base",
            "_view_module_version": "1.2.0",
            "_view_name": "StyleView",
            "description_width": ""
          }
        },
        "0078eeb5e6f94e5abe8bd1ec36114517": {
          "model_module": "@jupyter-widgets/base",
          "model_name": "LayoutModel",
          "model_module_version": "1.2.0",
          "state": {
            "_model_module": "@jupyter-widgets/base",
            "_model_module_version": "1.2.0",
            "_model_name": "LayoutModel",
            "_view_count": null,
            "_view_module": "@jupyter-widgets/base",
            "_view_module_version": "1.2.0",
            "_view_name": "LayoutView",
            "align_content": null,
            "align_items": null,
            "align_self": null,
            "border": null,
            "bottom": null,
            "display": null,
            "flex": null,
            "flex_flow": null,
            "grid_area": null,
            "grid_auto_columns": null,
            "grid_auto_flow": null,
            "grid_auto_rows": null,
            "grid_column": null,
            "grid_gap": null,
            "grid_row": null,
            "grid_template_areas": null,
            "grid_template_columns": null,
            "grid_template_rows": null,
            "height": null,
            "justify_content": null,
            "justify_items": null,
            "left": null,
            "margin": null,
            "max_height": null,
            "max_width": null,
            "min_height": null,
            "min_width": null,
            "object_fit": null,
            "object_position": null,
            "order": null,
            "overflow": null,
            "overflow_x": null,
            "overflow_y": null,
            "padding": null,
            "right": null,
            "top": null,
            "visibility": null,
            "width": null
          }
        },
        "3c105408ece7461fa29ec29f5e6cf492": {
          "model_module": "@jupyter-widgets/controls",
          "model_name": "SliderStyleModel",
          "model_module_version": "1.5.0",
          "state": {
            "_model_module": "@jupyter-widgets/controls",
            "_model_module_version": "1.5.0",
            "_model_name": "SliderStyleModel",
            "_view_count": null,
            "_view_module": "@jupyter-widgets/base",
            "_view_module_version": "1.2.0",
            "_view_name": "StyleView",
            "description_width": "",
            "handle_color": null
          }
        },
        "bc7ada24234243449c9b4962c33a6b84": {
          "model_module": "@jupyter-widgets/controls",
          "model_name": "VBoxModel",
          "model_module_version": "1.5.0",
          "state": {
            "_dom_classes": [
              "widget-interact"
            ],
            "_model_module": "@jupyter-widgets/controls",
            "_model_module_version": "1.5.0",
            "_model_name": "VBoxModel",
            "_view_count": null,
            "_view_module": "@jupyter-widgets/controls",
            "_view_module_version": "1.5.0",
            "_view_name": "VBoxView",
            "box_style": "",
            "children": [
              "IPY_MODEL_efea558750f448d983ad270f7efbcb72",
              "IPY_MODEL_7eaa96c7e45e4cde81863ced4603d44c"
            ],
            "layout": "IPY_MODEL_358328b333d843d4af5a09a61a048683"
          }
        },
        "7eaa96c7e45e4cde81863ced4603d44c": {
          "model_module": "@jupyter-widgets/output",
          "model_name": "OutputModel",
          "model_module_version": "1.0.0",
          "state": {
            "_dom_classes": [],
            "_model_module": "@jupyter-widgets/output",
            "_model_module_version": "1.0.0",
            "_model_name": "OutputModel",
            "_view_count": null,
            "_view_module": "@jupyter-widgets/output",
            "_view_module_version": "1.0.0",
            "_view_name": "OutputView",
            "layout": "IPY_MODEL_025fabf792894c9d83e2dcca414051be",
            "msg_id": "",
            "outputs": [
              {
                "output_type": "display_data",
                "data": {
                  "text/plain": "<Figure size 700x700 with 1 Axes>",
                  "image/png": "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\n"
                },
                "metadata": {}
              }
            ]
          }
        },
        "358328b333d843d4af5a09a61a048683": {
          "model_module": "@jupyter-widgets/base",
          "model_name": "LayoutModel",
          "model_module_version": "1.2.0",
          "state": {
            "_model_module": "@jupyter-widgets/base",
            "_model_module_version": "1.2.0",
            "_model_name": "LayoutModel",
            "_view_count": null,
            "_view_module": "@jupyter-widgets/base",
            "_view_module_version": "1.2.0",
            "_view_name": "LayoutView",
            "align_content": null,
            "align_items": null,
            "align_self": null,
            "border": null,
            "bottom": null,
            "display": null,
            "flex": null,
            "flex_flow": null,
            "grid_area": null,
            "grid_auto_columns": null,
            "grid_auto_flow": null,
            "grid_auto_rows": null,
            "grid_column": null,
            "grid_gap": null,
            "grid_row": null,
            "grid_template_areas": null,
            "grid_template_columns": null,
            "grid_template_rows": null,
            "height": null,
            "justify_content": null,
            "justify_items": null,
            "left": null,
            "margin": null,
            "max_height": null,
            "max_width": null,
            "min_height": null,
            "min_width": null,
            "object_fit": null,
            "object_position": null,
            "order": null,
            "overflow": null,
            "overflow_x": null,
            "overflow_y": null,
            "padding": null,
            "right": null,
            "top": null,
            "visibility": null,
            "width": null
          }
        },
        "025fabf792894c9d83e2dcca414051be": {
          "model_module": "@jupyter-widgets/base",
          "model_name": "LayoutModel",
          "model_module_version": "1.2.0",
          "state": {
            "_model_module": "@jupyter-widgets/base",
            "_model_module_version": "1.2.0",
            "_model_name": "LayoutModel",
            "_view_count": null,
            "_view_module": "@jupyter-widgets/base",
            "_view_module_version": "1.2.0",
            "_view_name": "LayoutView",
            "align_content": null,
            "align_items": null,
            "align_self": null,
            "border": null,
            "bottom": null,
            "display": null,
            "flex": null,
            "flex_flow": null,
            "grid_area": null,
            "grid_auto_columns": null,
            "grid_auto_flow": null,
            "grid_auto_rows": null,
            "grid_column": null,
            "grid_gap": null,
            "grid_row": null,
            "grid_template_areas": null,
            "grid_template_columns": null,
            "grid_template_rows": null,
            "height": null,
            "justify_content": null,
            "justify_items": null,
            "left": null,
            "margin": null,
            "max_height": null,
            "max_width": null,
            "min_height": null,
            "min_width": null,
            "object_fit": null,
            "object_position": null,
            "order": null,
            "overflow": null,
            "overflow_x": null,
            "overflow_y": null,
            "padding": null,
            "right": null,
            "top": null,
            "visibility": null,
            "width": null
          }
        },
        "7e9c2997656441dfaa27dadcea289208": {
          "model_module": "@jupyter-widgets/controls",
          "model_name": "PlayModel",
          "model_module_version": "1.5.0",
          "state": {
            "_dom_classes": [],
            "_model_module": "@jupyter-widgets/controls",
            "_model_module_version": "1.5.0",
            "_model_name": "PlayModel",
            "_playing": false,
            "_repeat": false,
            "_view_count": null,
            "_view_module": "@jupyter-widgets/controls",
            "_view_module_version": "1.5.0",
            "_view_name": "PlayView",
            "description": "",
            "description_tooltip": null,
            "disabled": false,
            "interval": 300,
            "layout": "IPY_MODEL_3a58365222d644a1bd631cb3f09b9133",
            "max": 100,
            "min": 0,
            "show_repeat": true,
            "step": 1,
            "style": "IPY_MODEL_7b7b3b8d8f564504b13bec8f91e5da42",
            "value": 49
          }
        },
        "2cd21374ebe2456596dedd79d874941e": {
          "model_module": "@jupyter-widgets/controls",
          "model_name": "IntSliderModel",
          "model_module_version": "1.5.0",
          "state": {
            "_dom_classes": [],
            "_model_module": "@jupyter-widgets/controls",
            "_model_module_version": "1.5.0",
            "_model_name": "IntSliderModel",
            "_view_count": null,
            "_view_module": "@jupyter-widgets/controls",
            "_view_module_version": "1.5.0",
            "_view_name": "IntSliderView",
            "continuous_update": true,
            "description": "step",
            "description_tooltip": null,
            "disabled": false,
            "layout": "IPY_MODEL_468802455b7640fcb996056d3dc84a4a",
            "max": 49,
            "min": 0,
            "orientation": "horizontal",
            "readout": true,
            "readout_format": "d",
            "step": 1,
            "style": "IPY_MODEL_9a75d7e798b748bba45d7ee1bf8bbfad",
            "value": 49
          }
        },
        "3a58365222d644a1bd631cb3f09b9133": {
          "model_module": "@jupyter-widgets/base",
          "model_name": "LayoutModel",
          "model_module_version": "1.2.0",
          "state": {
            "_model_module": "@jupyter-widgets/base",
            "_model_module_version": "1.2.0",
            "_model_name": "LayoutModel",
            "_view_count": null,
            "_view_module": "@jupyter-widgets/base",
            "_view_module_version": "1.2.0",
            "_view_name": "LayoutView",
            "align_content": null,
            "align_items": null,
            "align_self": null,
            "border": null,
            "bottom": null,
            "display": null,
            "flex": null,
            "flex_flow": null,
            "grid_area": null,
            "grid_auto_columns": null,
            "grid_auto_flow": null,
            "grid_auto_rows": null,
            "grid_column": null,
            "grid_gap": null,
            "grid_row": null,
            "grid_template_areas": null,
            "grid_template_columns": null,
            "grid_template_rows": null,
            "height": null,
            "justify_content": null,
            "justify_items": null,
            "left": null,
            "margin": null,
            "max_height": null,
            "max_width": null,
            "min_height": null,
            "min_width": null,
            "object_fit": null,
            "object_position": null,
            "order": null,
            "overflow": null,
            "overflow_x": null,
            "overflow_y": null,
            "padding": null,
            "right": null,
            "top": null,
            "visibility": null,
            "width": null
          }
        },
        "7b7b3b8d8f564504b13bec8f91e5da42": {
          "model_module": "@jupyter-widgets/controls",
          "model_name": "DescriptionStyleModel",
          "model_module_version": "1.5.0",
          "state": {
            "_model_module": "@jupyter-widgets/controls",
            "_model_module_version": "1.5.0",
            "_model_name": "DescriptionStyleModel",
            "_view_count": null,
            "_view_module": "@jupyter-widgets/base",
            "_view_module_version": "1.2.0",
            "_view_name": "StyleView",
            "description_width": ""
          }
        },
        "468802455b7640fcb996056d3dc84a4a": {
          "model_module": "@jupyter-widgets/base",
          "model_name": "LayoutModel",
          "model_module_version": "1.2.0",
          "state": {
            "_model_module": "@jupyter-widgets/base",
            "_model_module_version": "1.2.0",
            "_model_name": "LayoutModel",
            "_view_count": null,
            "_view_module": "@jupyter-widgets/base",
            "_view_module_version": "1.2.0",
            "_view_name": "LayoutView",
            "align_content": null,
            "align_items": null,
            "align_self": null,
            "border": null,
            "bottom": null,
            "display": null,
            "flex": null,
            "flex_flow": null,
            "grid_area": null,
            "grid_auto_columns": null,
            "grid_auto_flow": null,
            "grid_auto_rows": null,
            "grid_column": null,
            "grid_gap": null,
            "grid_row": null,
            "grid_template_areas": null,
            "grid_template_columns": null,
            "grid_template_rows": null,
            "height": null,
            "justify_content": null,
            "justify_items": null,
            "left": null,
            "margin": null,
            "max_height": null,
            "max_width": null,
            "min_height": null,
            "min_width": null,
            "object_fit": null,
            "object_position": null,
            "order": null,
            "overflow": null,
            "overflow_x": null,
            "overflow_y": null,
            "padding": null,
            "right": null,
            "top": null,
            "visibility": null,
            "width": null
          }
        },
        "9a75d7e798b748bba45d7ee1bf8bbfad": {
          "model_module": "@jupyter-widgets/controls",
          "model_name": "SliderStyleModel",
          "model_module_version": "1.5.0",
          "state": {
            "_model_module": "@jupyter-widgets/controls",
            "_model_module_version": "1.5.0",
            "_model_name": "SliderStyleModel",
            "_view_count": null,
            "_view_module": "@jupyter-widgets/base",
            "_view_module_version": "1.2.0",
            "_view_name": "StyleView",
            "description_width": "",
            "handle_color": null
          }
        },
        "6da8e9431a53442c8e14fbb7e2b80589": {
          "model_module": "@jupyter-widgets/controls",
          "model_name": "VBoxModel",
          "model_module_version": "1.5.0",
          "state": {
            "_dom_classes": [
              "widget-interact"
            ],
            "_model_module": "@jupyter-widgets/controls",
            "_model_module_version": "1.5.0",
            "_model_name": "VBoxModel",
            "_view_count": null,
            "_view_module": "@jupyter-widgets/controls",
            "_view_module_version": "1.5.0",
            "_view_name": "VBoxView",
            "box_style": "",
            "children": [
              "IPY_MODEL_2cd21374ebe2456596dedd79d874941e",
              "IPY_MODEL_1d5b5b39b8564365bb64dee71c0603c0"
            ],
            "layout": "IPY_MODEL_c9f233382b7a4ef984d5536c0ae57133"
          }
        },
        "1d5b5b39b8564365bb64dee71c0603c0": {
          "model_module": "@jupyter-widgets/output",
          "model_name": "OutputModel",
          "model_module_version": "1.0.0",
          "state": {
            "_dom_classes": [],
            "_model_module": "@jupyter-widgets/output",
            "_model_module_version": "1.0.0",
            "_model_name": "OutputModel",
            "_view_count": null,
            "_view_module": "@jupyter-widgets/output",
            "_view_module_version": "1.0.0",
            "_view_name": "OutputView",
            "layout": "IPY_MODEL_6f5d1f61932e427ba4f5c8369d5aca13",
            "msg_id": "",
            "outputs": [
              {
                "output_type": "display_data",
                "data": {
                  "text/plain": "<Figure size 700x700 with 1 Axes>",
                  "image/png": "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\n"
                },
                "metadata": {}
              }
            ]
          }
        },
        "c9f233382b7a4ef984d5536c0ae57133": {
          "model_module": "@jupyter-widgets/base",
          "model_name": "LayoutModel",
          "model_module_version": "1.2.0",
          "state": {
            "_model_module": "@jupyter-widgets/base",
            "_model_module_version": "1.2.0",
            "_model_name": "LayoutModel",
            "_view_count": null,
            "_view_module": "@jupyter-widgets/base",
            "_view_module_version": "1.2.0",
            "_view_name": "LayoutView",
            "align_content": null,
            "align_items": null,
            "align_self": null,
            "border": null,
            "bottom": null,
            "display": null,
            "flex": null,
            "flex_flow": null,
            "grid_area": null,
            "grid_auto_columns": null,
            "grid_auto_flow": null,
            "grid_auto_rows": null,
            "grid_column": null,
            "grid_gap": null,
            "grid_row": null,
            "grid_template_areas": null,
            "grid_template_columns": null,
            "grid_template_rows": null,
            "height": null,
            "justify_content": null,
            "justify_items": null,
            "left": null,
            "margin": null,
            "max_height": null,
            "max_width": null,
            "min_height": null,
            "min_width": null,
            "object_fit": null,
            "object_position": null,
            "order": null,
            "overflow": null,
            "overflow_x": null,
            "overflow_y": null,
            "padding": null,
            "right": null,
            "top": null,
            "visibility": null,
            "width": null
          }
        },
        "6f5d1f61932e427ba4f5c8369d5aca13": {
          "model_module": "@jupyter-widgets/base",
          "model_name": "LayoutModel",
          "model_module_version": "1.2.0",
          "state": {
            "_model_module": "@jupyter-widgets/base",
            "_model_module_version": "1.2.0",
            "_model_name": "LayoutModel",
            "_view_count": null,
            "_view_module": "@jupyter-widgets/base",
            "_view_module_version": "1.2.0",
            "_view_name": "LayoutView",
            "align_content": null,
            "align_items": null,
            "align_self": null,
            "border": null,
            "bottom": null,
            "display": null,
            "flex": null,
            "flex_flow": null,
            "grid_area": null,
            "grid_auto_columns": null,
            "grid_auto_flow": null,
            "grid_auto_rows": null,
            "grid_column": null,
            "grid_gap": null,
            "grid_row": null,
            "grid_template_areas": null,
            "grid_template_columns": null,
            "grid_template_rows": null,
            "height": null,
            "justify_content": null,
            "justify_items": null,
            "left": null,
            "margin": null,
            "max_height": null,
            "max_width": null,
            "min_height": null,
            "min_width": null,
            "object_fit": null,
            "object_position": null,
            "order": null,
            "overflow": null,
            "overflow_x": null,
            "overflow_y": null,
            "padding": null,
            "right": null,
            "top": null,
            "visibility": null,
            "width": null
          }
        }
      }
    }
  },
  "nbformat": 4,
  "nbformat_minor": 0
}