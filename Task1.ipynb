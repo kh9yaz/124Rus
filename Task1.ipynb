{
  "cells": [
    {
      "cell_type": "markdown",
      "metadata": {
        "id": "l69d152CRxtC"
      },
      "source": [
        "# Методы оптимизации"
      ]
    },
    {
      "cell_type": "markdown",
      "metadata": {
        "id": "0NOcXyaxRxtF"
      },
      "source": [
        "## Основы оптимизации\n",
        "\n",
        "В этой работе мы рассмотрим основы оптимизации, для чего она используется, и рассмотрим базовые подходы,а так же познакомимся с возможностями Jupyter Notebook и Google Colab."
      ]
    },
    {
      "cell_type": "markdown",
      "metadata": {
        "id": "2X-CrzmRRxtG"
      },
      "source": [
        "## Задача\n",
        "\n",
        "Рассмотрим простую задачу для оптимизации. Начем с примера, рассмотренного в [статье](https://habr.com/ru/post/517056/).\n",
        "\n",
        "Необходимо минимизировать функцию\n",
        "\n",
        "$$\n",
        "f(x) = 1.3 \\cdot (x - y)^2 + 0.7 \\cdot (x + y)^2\n",
        "$$\n",
        "\n",
        "используя [метод случайного поиска с вовзратом при неудачном шаге](https://studfile.net/preview/2152158/page:10/)"
      ]
    },
    {
      "cell_type": "raw",
      "metadata": {
        "id": "veZOD5m1RxtG"
      },
      "source": [
        "Для оптимизации и представления результата воспользуемся средствами визуализации Jupyter Notebook, расмотренными в [статье](https://habr.com/ru/post/517056/).\n",
        "\n",
        "Добавим виджеты Jupyter Notebook и функции, необходимые для анимации процесса поиска оптимального решения:"
      ]
    },
    {
      "cell_type": "markdown",
      "metadata": {
        "id": "eyUTTrPCRxtG"
      },
      "source": [
        "## Внимание!\n",
        "Как [выяснилось](https://colab.research.google.com/drive/14uWejf0v1DII-CfcY48bl06i2zlSx-hl), интерактивность не поддерживается в Google Colab"
      ]
    },
    {
      "cell_type": "code",
      "execution_count": null,
      "metadata": {
        "id": "WdMCH88rRxtH"
      },
      "outputs": [],
      "source": [
        "from IPython.display import HTML\n",
        "# подключаем модули Jupyter Notebook для взаимодействия с пользователем\n",
        "from ipywidgets import interact, interactive, fixed, interact_manual\n",
        "import ipywidgets as widgets\n",
        "from IPython.display import display\n",
        "\n",
        "# пдключаем модули для расчетов и рисования графиков\n",
        "import numpy as np\n",
        "import matplotlib.pyplot as plt\n",
        "\n",
        "\n",
        "# Служебная функция\n",
        "# Возврашает элемент массива, переданного ей в качестве первого параметра с указанным номером\n",
        "def step_slice(lst, step):\n",
        "    return lst[step]\n",
        "\n",
        "\n",
        "# Функция анимации. Именно она будет рисовать последовательность шагов\n",
        "def animate_list(lst, play=False, interval=200):\n",
        "    slider = widgets.IntSlider(min=0, max=len(lst) - 1, step=1, value=0)\n",
        "    if play:\n",
        "        play_widjet = widgets.Play(interval=interval)\n",
        "        widgets.jslink((play_widjet, 'value'), (slider, 'value'))\n",
        "        display(play_widjet)\n",
        "    return interact(step_slice, lst=fixed(lst), step=slider)\n",
        "\n",
        "\n",
        "# Отрисовка траектории и линий уровня функции\n",
        "def plot_trajectory(func, traj, limit_point=None):\n",
        "    # Добавим график, в ктором будем рисовать\n",
        "    fig = plt.figure(figsize=(7, 7))\n",
        "    ax = fig.add_axes([0, 0, 1, 1])\n",
        "\n",
        "    # Если задаа финальная точка, обозначим ее зеленым кружком\n",
        "    if limit_point:\n",
        "        ax.plot([limit_point[0]], [limit_point[1]], 'o', color='green')\n",
        "\n",
        "    delta = 0.025\n",
        "    x = np.arange(-2, 2, delta)  # диапазон значений по x\n",
        "    y = np.arange(-2, 2, delta)  # и по y соответственно\n",
        "    X, Y = np.meshgrid(x, y)  # пространственная сетка по указанным диапазонам значений\n",
        "\n",
        "    # вычисление значений функции во всех узлах сетки, необходимо для рисования изолиний на графике\n",
        "    Z = np.zeros_like(X)\n",
        "    for i in range(X.shape[0]):\n",
        "        for j in range(X.shape[1]):\n",
        "            Z[i][j] = func(X[i][j], Y[i][j])\n",
        "    # создание контуров изолиний по заданным значениям функции\n",
        "    CS = ax.contour(X, Y, Z, [0.5, 1.5, 3], colors=['blue', 'purple', 'red'])  # значения функции, для которых будут нарисованы изолинии, и соответствующие им цвета\n",
        "    ax.plot([u[0] for u in traj], [u[1] for u in traj], color='black')  # рисование всех линий траектории\n",
        "    ax.plot([u[0] for u in traj], [u[1] for u in traj], 'o', color='black')  # и соответствующих им точек\n",
        "\n",
        "    plt.close(fig)\n",
        "    return fig"
      ]
    },
    {
      "cell_type": "markdown",
      "metadata": {
        "id": "8TLTxPfbRxtI"
      },
      "source": [
        "Опишем функцию, которую хотим минимизировать, и собственно алгоритм минимизации"
      ]
    },
    {
      "cell_type": "code",
      "execution_count": null,
      "metadata": {
        "colab": {
          "referenced_widgets": [
            "f4dd521c42694ed5aa246a24df402059",
            "6a6f45055b9243159948cad62a57a817"
          ]
        },
        "id": "Uo0XJ2dARxtI",
        "outputId": "6d87a9dc-4dea-4eeb-dc97-e4a92f5a5602"
      },
      "outputs": [
        {
          "data": {
            "application/vnd.jupyter.widget-view+json": {
              "model_id": "f4dd521c42694ed5aa246a24df402059",
              "version_major": 2,
              "version_minor": 0
            },
            "text/plain": [
              "Play(value=0, interval=300)"
            ]
          },
          "metadata": {},
          "output_type": "display_data"
        },
        {
          "data": {
            "application/vnd.jupyter.widget-view+json": {
              "model_id": "6a6f45055b9243159948cad62a57a817",
              "version_major": 2,
              "version_minor": 0
            },
            "text/plain": [
              "interactive(children=(IntSlider(value=0, description='step', max=49), Output()), _dom_classes=('widget-interac…"
            ]
          },
          "metadata": {},
          "output_type": "display_data"
        }
      ],
      "source": [
        "display(HTML('<link rel=\"stylesheet\" href=\"//stackpath.bootstrapcdn.com/font-awesome/4.7.0/css/font-awesome.min.css\"/>'))\n",
        "# Функция, которую минимизируем, минимум в точке (0, 0)\n",
        "def f(x, y):\n",
        "    return 1.3 * (x - y) ** 2 + 0.7 * (x + y) ** 2\n",
        "\n",
        "x, y = (1.0, 1.0)  # начальная точка\n",
        "num_iters = 50  # число шагов алгоритма (не факт, что минимум будет достигнут)\n",
        "trajectory = [(x, y)]  # траектория пока состоит только из начальной точки\n",
        "plots = []  # шаги алгоритма, которые будут анимированы, пока их нет\n",
        "\n",
        "# Собственно алгоритм\n",
        "for i in range(num_iters):  # выполняем num_iters шагов\n",
        "    angle = 2 * np.pi * np.random.rand(1)  # случайным образом выбираем направленние движения\n",
        "    dx, dy = (np.cos(angle)[0] / 2 / (i + 1) ** 0.5, np.sin(angle)[0] / 2 / (i + 1) ** 0.5)  # находим смещение\n",
        "\n",
        "    trajectory.append((x + dx, y + dy))  # добавляем очередную найденую точку к таектории\n",
        "    plots.append(plot_trajectory(f, trajectory, limit_point=(0, 0)))  # добавляем шаг работы алгоритма, который надо нарисовать в анимации\n",
        "\n",
        "    if f(x, y) > f(x + dx, y + dy):  # если в выбранной точке значение целевой функции меньше, чем в предыдущей...\n",
        "        x = x + dx  # перемещаемся\n",
        "        y = y + dy  # в нее\n",
        "    else:\n",
        "        trajectory = trajectory[:-1]  # иначе вернемся на шаг назад\n",
        "\n",
        "animate_list(plots, play=True, interval=300);  # выводим все наши шаги в виде анимации"
      ]
    },
    {
      "cell_type": "code",
      "execution_count": null,
      "metadata": {
        "id": "Cfahe5csRxtJ"
      },
      "outputs": [],
      "source": []
    },
    {
      "cell_type": "markdown",
      "metadata": {
        "id": "yie3T12rRxtJ"
      },
      "source": [
        "Вам необходимо выполнить следующие задачи:\n",
        "\n",
        "1. Изменить алгоритм таким образом, чтобы останов алгоритма происходил:\n",
        "    * при достижении заданной точности, или\n",
        "    * по выполнению заданного числа шагов (в приведенной выше программе использовано только это условие)\n",
        "2. Реализовать [алгоритм покоординатного спуска](http://www.machinelearning.ru/wiki/index.php?title=Метод_покоординатного_спуска) и анимацию его работы для той же функции\n",
        "\n",
        "Для вашего удобства код алгоритма продублирован без изменений ниже для каждого из пунктов заданий. Вам необходимо модифицировать его в соответствии с указанным заданием."
      ]
    },
    {
      "cell_type": "markdown",
      "metadata": {
        "id": "LP4MipRGRxtJ"
      },
      "source": [
        "1. Изменить алгоритм таким образом, чтобы останов алгоритма происходил при достижении заданной точности, или по выполнению заданного числа шагов"
      ]
    },
    {
      "cell_type": "code",
      "execution_count": 25,
      "metadata": {
        "colab": {
          "base_uri": "https://localhost:8080/",
          "height": 841,
          "referenced_widgets": [
            "ce7629c0a08a4d7ca205628f0ca733c3",
            "1f62cc2af91c4c92825cd8ae3953cbbf",
            "773f0c388eb24d769f848397c2495e08",
            "552a2c8a28b045e9976398e062464787",
            "e873d24523284ac1b08d62617dd8c2f9",
            "a296aaedf68045a2a0439a9143e214fd",
            "385a00906d5748c69add7e0ca8a017d4",
            "6b2d3d286c0f46b9968a86e18c0c6fe2",
            "6037553148da49d1b1018ce870620214",
            "46a7e2206dd94aada7d3449a5e29b34e"
          ]
        },
        "id": "-ErerrQlRxtK",
        "outputId": "e65ee181-79a8-4c8c-ce3d-893e66f8a497"
      },
      "outputs": [
        {
          "output_type": "stream",
          "name": "stdout",
          "text": [
            "Необходимая точность достигнута\n"
          ]
        },
        {
          "output_type": "display_data",
          "data": {
            "text/plain": [
              "Play(value=0, interval=300)"
            ],
            "application/vnd.jupyter.widget-view+json": {
              "version_major": 2,
              "version_minor": 0,
              "model_id": "ce7629c0a08a4d7ca205628f0ca733c3"
            }
          },
          "metadata": {}
        },
        {
          "output_type": "display_data",
          "data": {
            "text/plain": [
              "interactive(children=(IntSlider(value=0, description='step', max=18), Output()), _dom_classes=('widget-interac…"
            ],
            "application/vnd.jupyter.widget-view+json": {
              "version_major": 2,
              "version_minor": 0,
              "model_id": "385a00906d5748c69add7e0ca8a017d4"
            }
          },
          "metadata": {}
        }
      ],
      "source": [
        "x, y = (1.0, 1.0)  # начальная точка\n",
        "num_iters = 50  # число шагов алгоритма (не факт, что минимум будет достигнут)\n",
        "trajectory = [(x, y)]  # траектория пока состоит только из начальной точки\n",
        "plots = []  # шаги алгоритма, которые будут анимированы, пока их нет\n",
        "number_of_steps = 45\n",
        "precision = 0.0015\n",
        "\n",
        "# Собственно алгоритм\n",
        "for i in range(num_iters):  # выполняем num_iters шагов\n",
        "    angle = 2 * np.pi * np.random.rand(1)  # случайным образом выбираем направленние движения\n",
        "    dx, dy = (np.cos(angle)[0] / 2 / (i + 1) ** 0.5, np.sin(angle)[0] / 2 / (i + 1) ** 0.5)  # находим смещение\n",
        "\n",
        "    trajectory.append((x + dx, y + dy))  # добавляем очередную найденую точку к таектории\n",
        "    plots.append(plot_trajectory(f, trajectory, limit_point=(0, 0)))  # добавляем шаг работы алгоритма, который надо нарисовать в анимации\n",
        "\n",
        "    if f(x, y) > f(x + dx, y + dy):  # если в выбранной точке значение целевой функции меньше, чем в предыдущей...\n",
        "        x = x + dx  # перемещаемся\n",
        "        y = y + dy  # в нее\n",
        "    else:\n",
        "        trajectory = trajectory[:-1]  # иначе вернемся на шаг назад\n",
        "\n",
        "    if abs(f(x, y) - f(x + dx, y + dy)) <= precision:\n",
        "     print ('Необходимая точность достигнута')\n",
        "     break\n",
        "\n",
        "    if i >= number_of_steps:\n",
        "      print('Достигнут лимит количества шагов')\n",
        "      break\n",
        "\n",
        "\n",
        "\n",
        "animate_list(plots, play=True, interval=300);  # выводим все наши шаги в виде анимации"
      ]
    },
    {
      "cell_type": "markdown",
      "metadata": {
        "id": "GRZt67t2RxtK"
      },
      "source": [
        "2. Реализовать [алгоритм покоординатного спуска](http://www.machinelearning.ru/wiki/index.php?title=Метод_покоординатного_спуска) и анимацию его работы"
      ]
    },
    {
      "cell_type": "code",
      "execution_count": 29,
      "metadata": {
        "colab": {
          "base_uri": "https://localhost:8080/",
          "height": 824,
          "referenced_widgets": [
            "7e9c2997656441dfaa27dadcea289208",
            "2cd21374ebe2456596dedd79d874941e",
            "3a58365222d644a1bd631cb3f09b9133",
            "7b7b3b8d8f564504b13bec8f91e5da42",
            "468802455b7640fcb996056d3dc84a4a",
            "9a75d7e798b748bba45d7ee1bf8bbfad",
            "6da8e9431a53442c8e14fbb7e2b80589",
            "1d5b5b39b8564365bb64dee71c0603c0",
            "c9f233382b7a4ef984d5536c0ae57133",
            "6f5d1f61932e427ba4f5c8369d5aca13"
          ]
        },
        "id": "-Gv17RfiRxtK",
        "outputId": "0db6fa8c-2743-4d21-d1b2-c4721f607778"
      },
      "outputs": [
        {
          "output_type": "display_data",
          "data": {
            "text/plain": [
              "Play(value=0, interval=300)"
            ],
            "application/vnd.jupyter.widget-view+json": {
              "version_major": 2,
              "version_minor": 0,
              "model_id": "7e9c2997656441dfaa27dadcea289208"
            }
          },
          "metadata": {}
        },
        {
          "output_type": "display_data",
          "data": {
            "text/plain": [
              "interactive(children=(IntSlider(value=0, description='step', max=49), Output()), _dom_classes=('widget-interac…"
            ],
            "application/vnd.jupyter.widget-view+json": {
              "version_major": 2,
              "version_minor": 0,
              "model_id": "6da8e9431a53442c8e14fbb7e2b80589"
            }
          },
          "metadata": {}
        }
      ],
      "source": [
        "x, y = (1.0, 1.0)  # начальная точка\n",
        "num_iters = 50  # число шагов алгоритма (не факт, что минимум будет достигнут)\n",
        "trajectory = [(x, y)]  # траектория пока состоит только из начальной точки\n",
        "plots = []  # шаги алгоритма, которые будут анимированы, пока их нет\n",
        "\n",
        "# Собственно алгоритм\n",
        "for i in range(num_iters):  # выполняем num_iters шагов\n",
        "    opt_var = 0\n",
        "    angle = 2 * np.pi * np.random.rand(1)  # случайным образом выбираем направленние движения\n",
        "    dx, dy = (np.cos(angle)[0] / 2 / (i + 1) ** 0.5, np.sin(angle)[0] / 2 / (i + 1) ** 0.5)  # находим смещение\n",
        "\n",
        "    if opt_var == 0:\n",
        "      new_step = (x+ dx, y)\n",
        "      trajectory.append(new_step)\n",
        "    elif opt_var == 1:\n",
        "      new_step = (x, y + dy)\n",
        "      trajectory.append(new_step)\n",
        "\n",
        "    plots.append(plot_trajectory(f, trajectory, limit_point=(0, 0)))  # добавляем шаг работы алгоритма, который надо нарисовать в анимации\n",
        "\n",
        "    if f(x, y) > f(new_step[0], new_step[1]):  # если в выбранной точке значение целевой функции меньше, чем в предыдущей...\n",
        "        x = x + dx  # перемещаемся\n",
        "        y = y + dy  # в нее\n",
        "    else:\n",
        "        trajectory = trajectory[:-1]  # иначе вернемся на шаг назад\n",
        "        opt_var = 1 - opt_var\n",
        "\n",
        "animate_list(plots, play=True, interval=300);  # выводим все наши шаги в виде анимации"
      ]
    }
  ],
  "metadata": {
    "kernelspec": {
      "display_name": "Python 3",
      "language": "python",
      "name": "python3"
    },
    "language_info": {
      "codemirror_mode": {
        "name": "ipython",
        "version": 3
      },
      "file_extension": ".py",
      "mimetype": "text/x-python",
      "name": "python",
      "nbconvert_exporter": "python",
      "pygments_lexer": "ipython3",
      "version": "3.8.5"
    },
    "colab": {
      "provenance": []
    },
    "widgets": {
      "application/vnd.jupyter.widget-state+json": {
        "ce7629c0a08a4d7ca205628f0ca733c3": {
          "model_module": "@jupyter-widgets/controls",
          "model_name": "PlayModel",
          "model_module_version": "1.5.0",
          "state": {
            "_dom_classes": [],
            "_model_module": "@jupyter-widgets/controls",
            "_model_module_version": "1.5.0",
            "_model_name": "PlayModel",
            "_playing": false,
            "_repeat": false,
            "_view_count": null,
            "_view_module": "@jupyter-widgets/controls",
            "_view_module_version": "1.5.0",
            "_view_name": "PlayView",
            "description": "",
            "description_tooltip": null,
            "disabled": false,
            "interval": 300,
            "layout": "IPY_MODEL_773f0c388eb24d769f848397c2495e08",
            "max": 100,
            "min": 0,
            "show_repeat": true,
            "step": 1,
            "style": "IPY_MODEL_552a2c8a28b045e9976398e062464787",
            "value": 18
          }
        },
        "1f62cc2af91c4c92825cd8ae3953cbbf": {
          "model_module": "@jupyter-widgets/controls",
          "model_name": "IntSliderModel",
          "model_module_version": "1.5.0",
          "state": {
            "_dom_classes": [],
            "_model_module": "@jupyter-widgets/controls",
            "_model_module_version": "1.5.0",
            "_model_name": "IntSliderModel",
            "_view_count": null,
            "_view_module": "@jupyter-widgets/controls",
            "_view_module_version": "1.5.0",
            "_view_name": "IntSliderView",
            "continuous_update": true,
            "description": "step",
            "description_tooltip": null,
            "disabled": false,
            "layout": "IPY_MODEL_e873d24523284ac1b08d62617dd8c2f9",
            "max": 18,
            "min": 0,
            "orientation": "horizontal",
            "readout": true,
            "readout_format": "d",
            "step": 1,
            "style": "IPY_MODEL_a296aaedf68045a2a0439a9143e214fd",
            "value": 18
          }
        },
        "773f0c388eb24d769f848397c2495e08": {
          "model_module": "@jupyter-widgets/base",
          "model_name": "LayoutModel",
          "model_module_version": "1.2.0",
          "state": {
            "_model_module": "@jupyter-widgets/base",
            "_model_module_version": "1.2.0",
            "_model_name": "LayoutModel",
            "_view_count": null,
            "_view_module": "@jupyter-widgets/base",
            "_view_module_version": "1.2.0",
            "_view_name": "LayoutView",
            "align_content": null,
            "align_items": null,
            "align_self": null,
            "border": null,
            "bottom": null,
            "display": null,
            "flex": null,
            "flex_flow": null,
            "grid_area": null,
            "grid_auto_columns": null,
            "grid_auto_flow": null,
            "grid_auto_rows": null,
            "grid_column": null,
            "grid_gap": null,
            "grid_row": null,
            "grid_template_areas": null,
            "grid_template_columns": null,
            "grid_template_rows": null,
            "height": null,
            "justify_content": null,
            "justify_items": null,
            "left": null,
            "margin": null,
            "max_height": null,
            "max_width": null,
            "min_height": null,
            "min_width": null,
            "object_fit": null,
            "object_position": null,
            "order": null,
            "overflow": null,
            "overflow_x": null,
            "overflow_y": null,
            "padding": null,
            "right": null,
            "top": null,
            "visibility": null,
            "width": null
          }
        },
        "552a2c8a28b045e9976398e062464787": {
          "model_module": "@jupyter-widgets/controls",
          "model_name": "DescriptionStyleModel",
          "model_module_version": "1.5.0",
          "state": {
            "_model_module": "@jupyter-widgets/controls",
            "_model_module_version": "1.5.0",
            "_model_name": "DescriptionStyleModel",
            "_view_count": null,
            "_view_module": "@jupyter-widgets/base",
            "_view_module_version": "1.2.0",
            "_view_name": "StyleView",
            "description_width": ""
          }
        },
        "e873d24523284ac1b08d62617dd8c2f9": {
          "model_module": "@jupyter-widgets/base",
          "model_name": "LayoutModel",
          "model_module_version": "1.2.0",
          "state": {
            "_model_module": "@jupyter-widgets/base",
            "_model_module_version": "1.2.0",
            "_model_name": "LayoutModel",
            "_view_count": null,
            "_view_module": "@jupyter-widgets/base",
            "_view_module_version": "1.2.0",
            "_view_name": "LayoutView",
            "align_content": null,
            "align_items": null,
            "align_self": null,
            "border": null,
            "bottom": null,
            "display": null,
            "flex": null,
            "flex_flow": null,
            "grid_area": null,
            "grid_auto_columns": null,
            "grid_auto_flow": null,
            "grid_auto_rows": null,
            "grid_column": null,
            "grid_gap": null,
            "grid_row": null,
            "grid_template_areas": null,
            "grid_template_columns": null,
            "grid_template_rows": null,
            "height": null,
            "justify_content": null,
            "justify_items": null,
            "left": null,
            "margin": null,
            "max_height": null,
            "max_width": null,
            "min_height": null,
            "min_width": null,
            "object_fit": null,
            "object_position": null,
            "order": null,
            "overflow": null,
            "overflow_x": null,
            "overflow_y": null,
            "padding": null,
            "right": null,
            "top": null,
            "visibility": null,
            "width": null
          }
        },
        "a296aaedf68045a2a0439a9143e214fd": {
          "model_module": "@jupyter-widgets/controls",
          "model_name": "SliderStyleModel",
          "model_module_version": "1.5.0",
          "state": {
            "_model_module": "@jupyter-widgets/controls",
            "_model_module_version": "1.5.0",
            "_model_name": "SliderStyleModel",
            "_view_count": null,
            "_view_module": "@jupyter-widgets/base",
            "_view_module_version": "1.2.0",
            "_view_name": "StyleView",
            "description_width": "",
            "handle_color": null
          }
        },
        "385a00906d5748c69add7e0ca8a017d4": {
          "model_module": "@jupyter-widgets/controls",
          "model_name": "VBoxModel",
          "model_module_version": "1.5.0",
          "state": {
            "_dom_classes": [
              "widget-interact"
            ],
            "_model_module": "@jupyter-widgets/controls",
            "_model_module_version": "1.5.0",
            "_model_name": "VBoxModel",
            "_view_count": null,
            "_view_module": "@jupyter-widgets/controls",
            "_view_module_version": "1.5.0",
            "_view_name": "VBoxView",
            "box_style": "",
            "children": [
              "IPY_MODEL_1f62cc2af91c4c92825cd8ae3953cbbf",
              "IPY_MODEL_6b2d3d286c0f46b9968a86e18c0c6fe2"
            ],
            "layout": "IPY_MODEL_6037553148da49d1b1018ce870620214"
          }
        },
        "6b2d3d286c0f46b9968a86e18c0c6fe2": {
          "model_module": "@jupyter-widgets/output",
          "model_name": "OutputModel",
          "model_module_version": "1.0.0",
          "state": {
            "_dom_classes": [],
            "_model_module": "@jupyter-widgets/output",
            "_model_module_version": "1.0.0",
            "_model_name": "OutputModel",
            "_view_count": null,
            "_view_module": "@jupyter-widgets/output",
            "_view_module_version": "1.0.0",
            "_view_name": "OutputView",
            "layout": "IPY_MODEL_46a7e2206dd94aada7d3449a5e29b34e",
            "msg_id": "",
            "outputs": [
              {
                "output_type": "display_data",
                "data": {
                  "text/plain": "<Figure size 700x700 with 1 Axes>",
                  "image/png": "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\n"
                },
                "metadata": {}
              }
            ]
          }
        },
        "6037553148da49d1b1018ce870620214": {
          "model_module": "@jupyter-widgets/base",
          "model_name": "LayoutModel",
          "model_module_version": "1.2.0",
          "state": {
            "_model_module": "@jupyter-widgets/base",
            "_model_module_version": "1.2.0",
            "_model_name": "LayoutModel",
            "_view_count": null,
            "_view_module": "@jupyter-widgets/base",
            "_view_module_version": "1.2.0",
            "_view_name": "LayoutView",
            "align_content": null,
            "align_items": null,
            "align_self": null,
            "border": null,
            "bottom": null,
            "display": null,
            "flex": null,
            "flex_flow": null,
            "grid_area": null,
            "grid_auto_columns": null,
            "grid_auto_flow": null,
            "grid_auto_rows": null,
            "grid_column": null,
            "grid_gap": null,
            "grid_row": null,
            "grid_template_areas": null,
            "grid_template_columns": null,
            "grid_template_rows": null,
            "height": null,
            "justify_content": null,
            "justify_items": null,
            "left": null,
            "margin": null,
            "max_height": null,
            "max_width": null,
            "min_height": null,
            "min_width": null,
            "object_fit": null,
            "object_position": null,
            "order": null,
            "overflow": null,
            "overflow_x": null,
            "overflow_y": null,
            "padding": null,
            "right": null,
            "top": null,
            "visibility": null,
            "width": null
          }
        },
        "46a7e2206dd94aada7d3449a5e29b34e": {
          "model_module": "@jupyter-widgets/base",
          "model_name": "LayoutModel",
          "model_module_version": "1.2.0",
          "state": {
            "_model_module": "@jupyter-widgets/base",
            "_model_module_version": "1.2.0",
            "_model_name": "LayoutModel",
            "_view_count": null,
            "_view_module": "@jupyter-widgets/base",
            "_view_module_version": "1.2.0",
            "_view_name": "LayoutView",
            "align_content": null,
            "align_items": null,
            "align_self": null,
            "border": null,
            "bottom": null,
            "display": null,
            "flex": null,
            "flex_flow": null,
            "grid_area": null,
            "grid_auto_columns": null,
            "grid_auto_flow": null,
            "grid_auto_rows": null,
            "grid_column": null,
            "grid_gap": null,
            "grid_row": null,
            "grid_template_areas": null,
            "grid_template_columns": null,
            "grid_template_rows": null,
            "height": null,
            "justify_content": null,
            "justify_items": null,
            "left": null,
            "margin": null,
            "max_height": null,
            "max_width": null,
            "min_height": null,
            "min_width": null,
            "object_fit": null,
            "object_position": null,
            "order": null,
            "overflow": null,
            "overflow_x": null,
            "overflow_y": null,
            "padding": null,
            "right": null,
            "top": null,
            "visibility": null,
            "width": null
          }
        },
        "7e9c2997656441dfaa27dadcea289208": {
          "model_module": "@jupyter-widgets/controls",
          "model_name": "PlayModel",
          "model_module_version": "1.5.0",
          "state": {
            "_dom_classes": [],
            "_model_module": "@jupyter-widgets/controls",
            "_model_module_version": "1.5.0",
            "_model_name": "PlayModel",
            "_playing": false,
            "_repeat": false,
            "_view_count": null,
            "_view_module": "@jupyter-widgets/controls",
            "_view_module_version": "1.5.0",
            "_view_name": "PlayView",
            "description": "",
            "description_tooltip": null,
            "disabled": false,
            "interval": 300,
            "layout": "IPY_MODEL_3a58365222d644a1bd631cb3f09b9133",
            "max": 100,
            "min": 0,
            "show_repeat": true,
            "step": 1,
            "style": "IPY_MODEL_7b7b3b8d8f564504b13bec8f91e5da42",
            "value": 49
          }
        },
        "2cd21374ebe2456596dedd79d874941e": {
          "model_module": "@jupyter-widgets/controls",
          "model_name": "IntSliderModel",
          "model_module_version": "1.5.0",
          "state": {
            "_dom_classes": [],
            "_model_module": "@jupyter-widgets/controls",
            "_model_module_version": "1.5.0",
            "_model_name": "IntSliderModel",
            "_view_count": null,
            "_view_module": "@jupyter-widgets/controls",
            "_view_module_version": "1.5.0",
            "_view_name": "IntSliderView",
            "continuous_update": true,
            "description": "step",
            "description_tooltip": null,
            "disabled": false,
            "layout": "IPY_MODEL_468802455b7640fcb996056d3dc84a4a",
            "max": 49,
            "min": 0,
            "orientation": "horizontal",
            "readout": true,
            "readout_format": "d",
            "step": 1,
            "style": "IPY_MODEL_9a75d7e798b748bba45d7ee1bf8bbfad",
            "value": 49
          }
        },
        "3a58365222d644a1bd631cb3f09b9133": {
          "model_module": "@jupyter-widgets/base",
          "model_name": "LayoutModel",
          "model_module_version": "1.2.0",
          "state": {
            "_model_module": "@jupyter-widgets/base",
            "_model_module_version": "1.2.0",
            "_model_name": "LayoutModel",
            "_view_count": null,
            "_view_module": "@jupyter-widgets/base",
            "_view_module_version": "1.2.0",
            "_view_name": "LayoutView",
            "align_content": null,
            "align_items": null,
            "align_self": null,
            "border": null,
            "bottom": null,
            "display": null,
            "flex": null,
            "flex_flow": null,
            "grid_area": null,
            "grid_auto_columns": null,
            "grid_auto_flow": null,
            "grid_auto_rows": null,
            "grid_column": null,
            "grid_gap": null,
            "grid_row": null,
            "grid_template_areas": null,
            "grid_template_columns": null,
            "grid_template_rows": null,
            "height": null,
            "justify_content": null,
            "justify_items": null,
            "left": null,
            "margin": null,
            "max_height": null,
            "max_width": null,
            "min_height": null,
            "min_width": null,
            "object_fit": null,
            "object_position": null,
            "order": null,
            "overflow": null,
            "overflow_x": null,
            "overflow_y": null,
            "padding": null,
            "right": null,
            "top": null,
            "visibility": null,
            "width": null
          }
        },
        "7b7b3b8d8f564504b13bec8f91e5da42": {
          "model_module": "@jupyter-widgets/controls",
          "model_name": "DescriptionStyleModel",
          "model_module_version": "1.5.0",
          "state": {
            "_model_module": "@jupyter-widgets/controls",
            "_model_module_version": "1.5.0",
            "_model_name": "DescriptionStyleModel",
            "_view_count": null,
            "_view_module": "@jupyter-widgets/base",
            "_view_module_version": "1.2.0",
            "_view_name": "StyleView",
            "description_width": ""
          }
        },
        "468802455b7640fcb996056d3dc84a4a": {
          "model_module": "@jupyter-widgets/base",
          "model_name": "LayoutModel",
          "model_module_version": "1.2.0",
          "state": {
            "_model_module": "@jupyter-widgets/base",
            "_model_module_version": "1.2.0",
            "_model_name": "LayoutModel",
            "_view_count": null,
            "_view_module": "@jupyter-widgets/base",
            "_view_module_version": "1.2.0",
            "_view_name": "LayoutView",
            "align_content": null,
            "align_items": null,
            "align_self": null,
            "border": null,
            "bottom": null,
            "display": null,
            "flex": null,
            "flex_flow": null,
            "grid_area": null,
            "grid_auto_columns": null,
            "grid_auto_flow": null,
            "grid_auto_rows": null,
            "grid_column": null,
            "grid_gap": null,
            "grid_row": null,
            "grid_template_areas": null,
            "grid_template_columns": null,
            "grid_template_rows": null,
            "height": null,
            "justify_content": null,
            "justify_items": null,
            "left": null,
            "margin": null,
            "max_height": null,
            "max_width": null,
            "min_height": null,
            "min_width": null,
            "object_fit": null,
            "object_position": null,
            "order": null,
            "overflow": null,
            "overflow_x": null,
            "overflow_y": null,
            "padding": null,
            "right": null,
            "top": null,
            "visibility": null,
            "width": null
          }
        },
        "9a75d7e798b748bba45d7ee1bf8bbfad": {
          "model_module": "@jupyter-widgets/controls",
          "model_name": "SliderStyleModel",
          "model_module_version": "1.5.0",
          "state": {
            "_model_module": "@jupyter-widgets/controls",
            "_model_module_version": "1.5.0",
            "_model_name": "SliderStyleModel",
            "_view_count": null,
            "_view_module": "@jupyter-widgets/base",
            "_view_module_version": "1.2.0",
            "_view_name": "StyleView",
            "description_width": "",
            "handle_color": null
          }
        },
        "6da8e9431a53442c8e14fbb7e2b80589": {
          "model_module": "@jupyter-widgets/controls",
          "model_name": "VBoxModel",
          "model_module_version": "1.5.0",
          "state": {
            "_dom_classes": [
              "widget-interact"
            ],
            "_model_module": "@jupyter-widgets/controls",
            "_model_module_version": "1.5.0",
            "_model_name": "VBoxModel",
            "_view_count": null,
            "_view_module": "@jupyter-widgets/controls",
            "_view_module_version": "1.5.0",
            "_view_name": "VBoxView",
            "box_style": "",
            "children": [
              "IPY_MODEL_2cd21374ebe2456596dedd79d874941e",
              "IPY_MODEL_1d5b5b39b8564365bb64dee71c0603c0"
            ],
            "layout": "IPY_MODEL_c9f233382b7a4ef984d5536c0ae57133"
          }
        },
        "1d5b5b39b8564365bb64dee71c0603c0": {
          "model_module": "@jupyter-widgets/output",
          "model_name": "OutputModel",
          "model_module_version": "1.0.0",
          "state": {
            "_dom_classes": [],
            "_model_module": "@jupyter-widgets/output",
            "_model_module_version": "1.0.0",
            "_model_name": "OutputModel",
            "_view_count": null,
            "_view_module": "@jupyter-widgets/output",
            "_view_module_version": "1.0.0",
            "_view_name": "OutputView",
            "layout": "IPY_MODEL_6f5d1f61932e427ba4f5c8369d5aca13",
            "msg_id": "",
            "outputs": [
              {
                "output_type": "display_data",
                "data": {
                  "text/plain": "<Figure size 700x700 with 1 Axes>",
                  "image/png": "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\n"
                },
                "metadata": {}
              }
            ]
          }
        },
        "c9f233382b7a4ef984d5536c0ae57133": {
          "model_module": "@jupyter-widgets/base",
          "model_name": "LayoutModel",
          "model_module_version": "1.2.0",
          "state": {
            "_model_module": "@jupyter-widgets/base",
            "_model_module_version": "1.2.0",
            "_model_name": "LayoutModel",
            "_view_count": null,
            "_view_module": "@jupyter-widgets/base",
            "_view_module_version": "1.2.0",
            "_view_name": "LayoutView",
            "align_content": null,
            "align_items": null,
            "align_self": null,
            "border": null,
            "bottom": null,
            "display": null,
            "flex": null,
            "flex_flow": null,
            "grid_area": null,
            "grid_auto_columns": null,
            "grid_auto_flow": null,
            "grid_auto_rows": null,
            "grid_column": null,
            "grid_gap": null,
            "grid_row": null,
            "grid_template_areas": null,
            "grid_template_columns": null,
            "grid_template_rows": null,
            "height": null,
            "justify_content": null,
            "justify_items": null,
            "left": null,
            "margin": null,
            "max_height": null,
            "max_width": null,
            "min_height": null,
            "min_width": null,
            "object_fit": null,
            "object_position": null,
            "order": null,
            "overflow": null,
            "overflow_x": null,
            "overflow_y": null,
            "padding": null,
            "right": null,
            "top": null,
            "visibility": null,
            "width": null
          }
        },
        "6f5d1f61932e427ba4f5c8369d5aca13": {
          "model_module": "@jupyter-widgets/base",
          "model_name": "LayoutModel",
          "model_module_version": "1.2.0",
          "state": {
            "_model_module": "@jupyter-widgets/base",
            "_model_module_version": "1.2.0",
            "_model_name": "LayoutModel",
            "_view_count": null,
            "_view_module": "@jupyter-widgets/base",
            "_view_module_version": "1.2.0",
            "_view_name": "LayoutView",
            "align_content": null,
            "align_items": null,
            "align_self": null,
            "border": null,
            "bottom": null,
            "display": null,
            "flex": null,
            "flex_flow": null,
            "grid_area": null,
            "grid_auto_columns": null,
            "grid_auto_flow": null,
            "grid_auto_rows": null,
            "grid_column": null,
            "grid_gap": null,
            "grid_row": null,
            "grid_template_areas": null,
            "grid_template_columns": null,
            "grid_template_rows": null,
            "height": null,
            "justify_content": null,
            "justify_items": null,
            "left": null,
            "margin": null,
            "max_height": null,
            "max_width": null,
            "min_height": null,
            "min_width": null,
            "object_fit": null,
            "object_position": null,
            "order": null,
            "overflow": null,
            "overflow_x": null,
            "overflow_y": null,
            "padding": null,
            "right": null,
            "top": null,
            "visibility": null,
            "width": null
          }
        }
      }
    }
  },
  "nbformat": 4,
  "nbformat_minor": 0
}