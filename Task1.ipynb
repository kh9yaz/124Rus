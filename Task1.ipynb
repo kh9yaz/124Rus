{
  "cells": [
    {
      "cell_type": "markdown",
      "metadata": {
        "id": "l69d152CRxtC"
      },
      "source": [
        "# Методы оптимизации"
      ]
    },
    {
      "cell_type": "markdown",
      "metadata": {
        "id": "0NOcXyaxRxtF"
      },
      "source": [
        "## Основы оптимизации\n",
        "\n",
        "В этой работе мы рассмотрим основы оптимизации, для чего она используется, и рассмотрим базовые подходы,а так же познакомимся с возможностями Jupyter Notebook и Google Colab."
      ]
    },
    {
      "cell_type": "markdown",
      "metadata": {
        "id": "2X-CrzmRRxtG"
      },
      "source": [
        "## Задача\n",
        "\n",
        "Рассмотрим простую задачу для оптимизации. Начем с примера, рассмотренного в [статье](https://habr.com/ru/post/517056/).\n",
        "\n",
        "Необходимо минимизировать функцию\n",
        "\n",
        "$$\n",
        "f(x) = 1.3 \\cdot (x - y)^2 + 0.7 \\cdot (x + y)^2\n",
        "$$\n",
        "\n",
        "используя [метод случайного поиска с вовзратом при неудачном шаге](https://studfile.net/preview/2152158/page:10/)"
      ]
    },
    {
      "cell_type": "raw",
      "metadata": {
        "id": "veZOD5m1RxtG"
      },
      "source": [
        "Для оптимизации и представления результата воспользуемся средствами визуализации Jupyter Notebook, расмотренными в [статье](https://habr.com/ru/post/517056/).\n",
        "\n",
        "Добавим виджеты Jupyter Notebook и функции, необходимые для анимации процесса поиска оптимального решения:"
      ]
    },
    {
      "cell_type": "markdown",
      "metadata": {
        "id": "eyUTTrPCRxtG"
      },
      "source": [
        "## Внимание!\n",
        "Как [выяснилось](https://colab.research.google.com/drive/14uWejf0v1DII-CfcY48bl06i2zlSx-hl), интерактивность не поддерживается в Google Colab"
      ]
    },
    {
      "cell_type": "code",
      "execution_count": null,
      "metadata": {
        "id": "WdMCH88rRxtH"
      },
      "outputs": [],
      "source": [
        "from IPython.display import HTML\n",
        "# подключаем модули Jupyter Notebook для взаимодействия с пользователем\n",
        "from ipywidgets import interact, interactive, fixed, interact_manual\n",
        "import ipywidgets as widgets\n",
        "from IPython.display import display\n",
        "\n",
        "# пдключаем модули для расчетов и рисования графиков\n",
        "import numpy as np\n",
        "import matplotlib.pyplot as plt\n",
        "\n",
        "\n",
        "# Служебная функция\n",
        "# Возврашает элемент массива, переданного ей в качестве первого параметра с указанным номером\n",
        "def step_slice(lst, step):\n",
        "    return lst[step]\n",
        "\n",
        "\n",
        "# Функция анимации. Именно она будет рисовать последовательность шагов\n",
        "def animate_list(lst, play=False, interval=200):\n",
        "    slider = widgets.IntSlider(min=0, max=len(lst) - 1, step=1, value=0)\n",
        "    if play:\n",
        "        play_widjet = widgets.Play(interval=interval)\n",
        "        widgets.jslink((play_widjet, 'value'), (slider, 'value'))\n",
        "        display(play_widjet)\n",
        "    return interact(step_slice, lst=fixed(lst), step=slider)\n",
        "\n",
        "\n",
        "# Отрисовка траектории и линий уровня функции\n",
        "def plot_trajectory(func, traj, limit_point=None):\n",
        "    # Добавим график, в ктором будем рисовать\n",
        "    fig = plt.figure(figsize=(7, 7))\n",
        "    ax = fig.add_axes([0, 0, 1, 1])\n",
        "\n",
        "    # Если задаа финальная точка, обозначим ее зеленым кружком\n",
        "    if limit_point:\n",
        "        ax.plot([limit_point[0]], [limit_point[1]], 'o', color='green')\n",
        "\n",
        "    delta = 0.025\n",
        "    x = np.arange(-2, 2, delta)  # диапазон значений по x\n",
        "    y = np.arange(-2, 2, delta)  # и по y соответственно\n",
        "    X, Y = np.meshgrid(x, y)  # пространственная сетка по указанным диапазонам значений\n",
        "\n",
        "    # вычисление значений функции во всех узлах сетки, необходимо для рисования изолиний на графике\n",
        "    Z = np.zeros_like(X)\n",
        "    for i in range(X.shape[0]):\n",
        "        for j in range(X.shape[1]):\n",
        "            Z[i][j] = func(X[i][j], Y[i][j])\n",
        "    # создание контуров изолиний по заданным значениям функции\n",
        "    CS = ax.contour(X, Y, Z, [0.5, 1.5, 3], colors=['blue', 'purple', 'red'])  # значения функции, для которых будут нарисованы изолинии, и соответствующие им цвета\n",
        "    ax.plot([u[0] for u in traj], [u[1] for u in traj], color='black')  # рисование всех линий траектории\n",
        "    ax.plot([u[0] for u in traj], [u[1] for u in traj], 'o', color='black')  # и соответствующих им точек\n",
        "\n",
        "    plt.close(fig)\n",
        "    return fig"
      ]
    },
    {
      "cell_type": "markdown",
      "metadata": {
        "id": "8TLTxPfbRxtI"
      },
      "source": [
        "Опишем функцию, которую хотим минимизировать, и собственно алгоритм минимизации"
      ]
    },
    {
      "cell_type": "code",
      "execution_count": null,
      "metadata": {
        "id": "Uo0XJ2dARxtI",
        "outputId": "6d87a9dc-4dea-4eeb-dc97-e4a92f5a5602",
        "colab": {
          "referenced_widgets": [
            "f4dd521c42694ed5aa246a24df402059",
            "6a6f45055b9243159948cad62a57a817"
          ]
        }
      },
      "outputs": [
        {
          "data": {
            "application/vnd.jupyter.widget-view+json": {
              "model_id": "f4dd521c42694ed5aa246a24df402059",
              "version_major": 2,
              "version_minor": 0
            },
            "text/plain": [
              "Play(value=0, interval=300)"
            ]
          },
          "metadata": {},
          "output_type": "display_data"
        },
        {
          "data": {
            "application/vnd.jupyter.widget-view+json": {
              "model_id": "6a6f45055b9243159948cad62a57a817",
              "version_major": 2,
              "version_minor": 0
            },
            "text/plain": [
              "interactive(children=(IntSlider(value=0, description='step', max=49), Output()), _dom_classes=('widget-interac…"
            ]
          },
          "metadata": {},
          "output_type": "display_data"
        }
      ],
      "source": [
        "display(HTML('<link rel=\"stylesheet\" href=\"//stackpath.bootstrapcdn.com/font-awesome/4.7.0/css/font-awesome.min.css\"/>'))\n",
        "# Функция, которую минимизируем, минимум в точке (0, 0)\n",
        "def f(x, y):\n",
        "    return 1.3 * (x - y) ** 2 + 0.7 * (x + y) ** 2\n",
        "\n",
        "x, y = (1.0, 1.0)  # начальная точка\n",
        "num_iters = 50  # число шагов алгоритма (не факт, что минимум будет достигнут)\n",
        "trajectory = [(x, y)]  # траектория пока состоит только из начальной точки\n",
        "plots = []  # шаги алгоритма, которые будут анимированы, пока их нет\n",
        "\n",
        "# Собственно алгоритм\n",
        "for i in range(num_iters):  # выполняем num_iters шагов\n",
        "    angle = 2 * np.pi * np.random.rand(1)  # случайным образом выбираем направленние движения\n",
        "    dx, dy = (np.cos(angle)[0] / 2 / (i + 1) ** 0.5, np.sin(angle)[0] / 2 / (i + 1) ** 0.5)  # находим смещение\n",
        "\n",
        "    trajectory.append((x + dx, y + dy))  # добавляем очередную найденую точку к таектории\n",
        "    plots.append(plot_trajectory(f, trajectory, limit_point=(0, 0)))  # добавляем шаг работы алгоритма, который надо нарисовать в анимации\n",
        "\n",
        "    if f(x, y) > f(x + dx, y + dy):  # если в выбранной точке значение целевой функции меньше, чем в предыдущей...\n",
        "        x = x + dx  # перемещаемся\n",
        "        y = y + dy  # в нее\n",
        "    else:\n",
        "        trajectory = trajectory[:-1]  # иначе вернемся на шаг назад\n",
        "\n",
        "animate_list(plots, play=True, interval=300);  # выводим все наши шаги в виде анимации"
      ]
    },
    {
      "cell_type": "code",
      "execution_count": null,
      "metadata": {
        "id": "Cfahe5csRxtJ"
      },
      "outputs": [],
      "source": []
    },
    {
      "cell_type": "markdown",
      "metadata": {
        "id": "yie3T12rRxtJ"
      },
      "source": [
        "Вам необходимо выполнить следующие задачи:\n",
        "\n",
        "1. Изменить алгоритм таким образом, чтобы останов алгоритма происходил:\n",
        "    * при достижении заданной точности, или\n",
        "    * по выполнению заданного числа шагов (в приведенной выше программе использовано только это условие)\n",
        "2. Реализовать [алгоритм покоординатного спуска](http://www.machinelearning.ru/wiki/index.php?title=Метод_покоординатного_спуска) и анимацию его работы для той же функции\n",
        "\n",
        "Для вашего удобства код алгоритма продублирован без изменений ниже для каждого из пунктов заданий. Вам необходимо модифицировать его в соответствии с указанным заданием."
      ]
    },
    {
      "cell_type": "markdown",
      "metadata": {
        "id": "LP4MipRGRxtJ"
      },
      "source": [
        "1. Изменить алгоритм таким образом, чтобы останов алгоритма происходил при достижении заданной точности, или по выполнению заданного числа шагов"
      ]
    },
    {
      "cell_type": "code",
      "execution_count": 25,
      "metadata": {
        "id": "-ErerrQlRxtK",
        "outputId": "e65ee181-79a8-4c8c-ce3d-893e66f8a497",
        "colab": {
          "base_uri": "https://localhost:8080/",
          "height": 841,
          "referenced_widgets": [
            "ce7629c0a08a4d7ca205628f0ca733c3",
            "1f62cc2af91c4c92825cd8ae3953cbbf",
            "773f0c388eb24d769f848397c2495e08",
            "552a2c8a28b045e9976398e062464787",
            "e873d24523284ac1b08d62617dd8c2f9",
            "a296aaedf68045a2a0439a9143e214fd",
            "385a00906d5748c69add7e0ca8a017d4",
            "6b2d3d286c0f46b9968a86e18c0c6fe2",
            "6037553148da49d1b1018ce870620214",
            "46a7e2206dd94aada7d3449a5e29b34e"
          ]
        }
      },
      "outputs": [
        {
          "output_type": "stream",
          "name": "stdout",
          "text": [
            "Необходимая точность достигнута\n"
          ]
        },
        {
          "output_type": "display_data",
          "data": {
            "text/plain": [
              "Play(value=0, interval=300)"
            ],
            "application/vnd.jupyter.widget-view+json": {
              "version_major": 2,
              "version_minor": 0,
              "model_id": "ce7629c0a08a4d7ca205628f0ca733c3"
            }
          },
          "metadata": {}
        },
        {
          "output_type": "display_data",
          "data": {
            "text/plain": [
              "interactive(children=(IntSlider(value=0, description='step', max=18), Output()), _dom_classes=('widget-interac…"
            ],
            "application/vnd.jupyter.widget-view+json": {
              "version_major": 2,
              "version_minor": 0,
              "model_id": "385a00906d5748c69add7e0ca8a017d4"
            }
          },
          "metadata": {}
        }
      ],
      "source": [
        "x, y = (1.0, 1.0)  # начальная точка\n",
        "num_iters = 50  # число шагов алгоритма (не факт, что минимум будет достигнут)\n",
        "trajectory = [(x, y)]  # траектория пока состоит только из начальной точки\n",
        "plots = []  # шаги алгоритма, которые будут анимированы, пока их нет\n",
        "number_of_steps = 45\n",
        "precision = 0.0015\n",
        "\n",
        "# Собственно алгоритм\n",
        "for i in range(num_iters):  # выполняем num_iters шагов\n",
        "    angle = 2 * np.pi * np.random.rand(1)  # случайным образом выбираем направленние движения\n",
        "    dx, dy = (np.cos(angle)[0] / 2 / (i + 1) ** 0.5, np.sin(angle)[0] / 2 / (i + 1) ** 0.5)  # находим смещение\n",
        "\n",
        "    trajectory.append((x + dx, y + dy))  # добавляем очередную найденую точку к таектории\n",
        "    plots.append(plot_trajectory(f, trajectory, limit_point=(0, 0)))  # добавляем шаг работы алгоритма, который надо нарисовать в анимации\n",
        "\n",
        "    if f(x, y) > f(x + dx, y + dy):  # если в выбранной точке значение целевой функции меньше, чем в предыдущей...\n",
        "        x = x + dx  # перемещаемся\n",
        "        y = y + dy  # в нее\n",
        "    else:\n",
        "        trajectory = trajectory[:-1]  # иначе вернемся на шаг назад\n",
        "\n",
        "    if abs(f(x, y) - f(x + dx, y + dy)) <= precision:\n",
        "     print ('Необходимая точность достигнута')\n",
        "     break\n",
        "\n",
        "    if i >= number_of_steps:\n",
        "      print('Достигнут лимит количества шагов')\n",
        "      break\n",
        "\n",
        "\n",
        "\n",
        "animate_list(plots, play=True, interval=300);  # выводим все наши шаги в виде анимации"
      ]
    },
    {
      "cell_type": "markdown",
      "metadata": {
        "id": "GRZt67t2RxtK"
      },
      "source": [
        "2. Реализовать [алгоритм покоординатного спуска](http://www.machinelearning.ru/wiki/index.php?title=Метод_покоординатного_спуска) и анимацию его работы"
      ]
    },
    {
      "cell_type": "code",
      "execution_count": null,
      "metadata": {
        "id": "-Gv17RfiRxtK"
      },
      "outputs": [],
      "source": [
        "x, y = (1.0, 1.0)  # начальная точка\n",
        "num_iters = 50  # число шагов алгоритма (не факт, что минимум будет достигнут)\n",
        "trajectory = [(x, y)]  # траектория пока состоит только из начальной точки\n",
        "plots = []  # шаги алгоритма, которые будут анимированы, пока их нет\n",
        "\n",
        "# Собственно алгоритм\n",
        "for i in range(num_iters):  # выполняем num_iters шагов\n",
        "    angle = 2 * np.pi * np.random.rand(1)  # случайным образом выбираем направленние движения\n",
        "    dx, dy = (np.cos(angle)[0] / 2 / (i + 1) ** 0.5, np.sin(angle)[0] / 2 / (i + 1) ** 0.5)  # находим смещение\n",
        "\n",
        "    trajectory.append((x + dx, y + dy))  # добавляем очередную найденую точку к таектории\n",
        "    plots.append(plot_trajectory(f, trajectory, limit_point=(0, 0)))  # добавляем шаг работы алгоритма, который надо нарисовать в анимации\n",
        "\n",
        "    if f(x, y) > f(x + dx, y + dy):  # если в выбранной точке значение целевой функции меньше, чем в предыдущей...\n",
        "        x = x + dx  # перемещаемся\n",
        "        y = y + dy  # в нее\n",
        "    else:\n",
        "        trajectory = trajectory[:-1]  # иначе вернемся на шаг назад\n",
        "\n",
        "animate_list(plots, play=True, interval=300);  # выводим все наши шаги в виде анимации"
      ]
    }
  ],
  "metadata": {
    "kernelspec": {
      "display_name": "Python 3",
      "language": "python",
      "name": "python3"
    },
    "language_info": {
      "codemirror_mode": {
        "name": "ipython",
        "version": 3
      },
      "file_extension": ".py",
      "mimetype": "text/x-python",
      "name": "python",
      "nbconvert_exporter": "python",
      "pygments_lexer": "ipython3",
      "version": "3.8.5"
    },
    "colab": {
      "provenance": []
    },
    "widgets": {
      "application/vnd.jupyter.widget-state+json": {
        "ce7629c0a08a4d7ca205628f0ca733c3": {
          "model_module": "@jupyter-widgets/controls",
          "model_name": "PlayModel",
          "model_module_version": "1.5.0",
          "state": {
            "_dom_classes": [],
            "_model_module": "@jupyter-widgets/controls",
            "_model_module_version": "1.5.0",
            "_model_name": "PlayModel",
            "_playing": false,
            "_repeat": false,
            "_view_count": null,
            "_view_module": "@jupyter-widgets/controls",
            "_view_module_version": "1.5.0",
            "_view_name": "PlayView",
            "description": "",
            "description_tooltip": null,
            "disabled": false,
            "interval": 300,
            "layout": "IPY_MODEL_773f0c388eb24d769f848397c2495e08",
            "max": 100,
            "min": 0,
            "show_repeat": true,
            "step": 1,
            "style": "IPY_MODEL_552a2c8a28b045e9976398e062464787",
            "value": 18
          }
        },
        "1f62cc2af91c4c92825cd8ae3953cbbf": {
          "model_module": "@jupyter-widgets/controls",
          "model_name": "IntSliderModel",
          "model_module_version": "1.5.0",
          "state": {
            "_dom_classes": [],
            "_model_module": "@jupyter-widgets/controls",
            "_model_module_version": "1.5.0",
            "_model_name": "IntSliderModel",
            "_view_count": null,
            "_view_module": "@jupyter-widgets/controls",
            "_view_module_version": "1.5.0",
            "_view_name": "IntSliderView",
            "continuous_update": true,
            "description": "step",
            "description_tooltip": null,
            "disabled": false,
            "layout": "IPY_MODEL_e873d24523284ac1b08d62617dd8c2f9",
            "max": 18,
            "min": 0,
            "orientation": "horizontal",
            "readout": true,
            "readout_format": "d",
            "step": 1,
            "style": "IPY_MODEL_a296aaedf68045a2a0439a9143e214fd",
            "value": 18
          }
        },
        "773f0c388eb24d769f848397c2495e08": {
          "model_module": "@jupyter-widgets/base",
          "model_name": "LayoutModel",
          "model_module_version": "1.2.0",
          "state": {
            "_model_module": "@jupyter-widgets/base",
            "_model_module_version": "1.2.0",
            "_model_name": "LayoutModel",
            "_view_count": null,
            "_view_module": "@jupyter-widgets/base",
            "_view_module_version": "1.2.0",
            "_view_name": "LayoutView",
            "align_content": null,
            "align_items": null,
            "align_self": null,
            "border": null,
            "bottom": null,
            "display": null,
            "flex": null,
            "flex_flow": null,
            "grid_area": null,
            "grid_auto_columns": null,
            "grid_auto_flow": null,
            "grid_auto_rows": null,
            "grid_column": null,
            "grid_gap": null,
            "grid_row": null,
            "grid_template_areas": null,
            "grid_template_columns": null,
            "grid_template_rows": null,
            "height": null,
            "justify_content": null,
            "justify_items": null,
            "left": null,
            "margin": null,
            "max_height": null,
            "max_width": null,
            "min_height": null,
            "min_width": null,
            "object_fit": null,
            "object_position": null,
            "order": null,
            "overflow": null,
            "overflow_x": null,
            "overflow_y": null,
            "padding": null,
            "right": null,
            "top": null,
            "visibility": null,
            "width": null
          }
        },
        "552a2c8a28b045e9976398e062464787": {
          "model_module": "@jupyter-widgets/controls",
          "model_name": "DescriptionStyleModel",
          "model_module_version": "1.5.0",
          "state": {
            "_model_module": "@jupyter-widgets/controls",
            "_model_module_version": "1.5.0",
            "_model_name": "DescriptionStyleModel",
            "_view_count": null,
            "_view_module": "@jupyter-widgets/base",
            "_view_module_version": "1.2.0",
            "_view_name": "StyleView",
            "description_width": ""
          }
        },
        "e873d24523284ac1b08d62617dd8c2f9": {
          "model_module": "@jupyter-widgets/base",
          "model_name": "LayoutModel",
          "model_module_version": "1.2.0",
          "state": {
            "_model_module": "@jupyter-widgets/base",
            "_model_module_version": "1.2.0",
            "_model_name": "LayoutModel",
            "_view_count": null,
            "_view_module": "@jupyter-widgets/base",
            "_view_module_version": "1.2.0",
            "_view_name": "LayoutView",
            "align_content": null,
            "align_items": null,
            "align_self": null,
            "border": null,
            "bottom": null,
            "display": null,
            "flex": null,
            "flex_flow": null,
            "grid_area": null,
            "grid_auto_columns": null,
            "grid_auto_flow": null,
            "grid_auto_rows": null,
            "grid_column": null,
            "grid_gap": null,
            "grid_row": null,
            "grid_template_areas": null,
            "grid_template_columns": null,
            "grid_template_rows": null,
            "height": null,
            "justify_content": null,
            "justify_items": null,
            "left": null,
            "margin": null,
            "max_height": null,
            "max_width": null,
            "min_height": null,
            "min_width": null,
            "object_fit": null,
            "object_position": null,
            "order": null,
            "overflow": null,
            "overflow_x": null,
            "overflow_y": null,
            "padding": null,
            "right": null,
            "top": null,
            "visibility": null,
            "width": null
          }
        },
        "a296aaedf68045a2a0439a9143e214fd": {
          "model_module": "@jupyter-widgets/controls",
          "model_name": "SliderStyleModel",
          "model_module_version": "1.5.0",
          "state": {
            "_model_module": "@jupyter-widgets/controls",
            "_model_module_version": "1.5.0",
            "_model_name": "SliderStyleModel",
            "_view_count": null,
            "_view_module": "@jupyter-widgets/base",
            "_view_module_version": "1.2.0",
            "_view_name": "StyleView",
            "description_width": "",
            "handle_color": null
          }
        },
        "385a00906d5748c69add7e0ca8a017d4": {
          "model_module": "@jupyter-widgets/controls",
          "model_name": "VBoxModel",
          "model_module_version": "1.5.0",
          "state": {
            "_dom_classes": [
              "widget-interact"
            ],
            "_model_module": "@jupyter-widgets/controls",
            "_model_module_version": "1.5.0",
            "_model_name": "VBoxModel",
            "_view_count": null,
            "_view_module": "@jupyter-widgets/controls",
            "_view_module_version": "1.5.0",
            "_view_name": "VBoxView",
            "box_style": "",
            "children": [
              "IPY_MODEL_1f62cc2af91c4c92825cd8ae3953cbbf",
              "IPY_MODEL_6b2d3d286c0f46b9968a86e18c0c6fe2"
            ],
            "layout": "IPY_MODEL_6037553148da49d1b1018ce870620214"
          }
        },
        "6b2d3d286c0f46b9968a86e18c0c6fe2": {
          "model_module": "@jupyter-widgets/output",
          "model_name": "OutputModel",
          "model_module_version": "1.0.0",
          "state": {
            "_dom_classes": [],
            "_model_module": "@jupyter-widgets/output",
            "_model_module_version": "1.0.0",
            "_model_name": "OutputModel",
            "_view_count": null,
            "_view_module": "@jupyter-widgets/output",
            "_view_module_version": "1.0.0",
            "_view_name": "OutputView",
            "layout": "IPY_MODEL_46a7e2206dd94aada7d3449a5e29b34e",
            "msg_id": "",
            "outputs": [
              {
                "output_type": "display_data",
                "data": {
                  "text/plain": "<Figure size 700x700 with 1 Axes>",
                  "image/png": "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\n"
                },
                "metadata": {}
              }
            ]
          }
        },
        "6037553148da49d1b1018ce870620214": {
          "model_module": "@jupyter-widgets/base",
          "model_name": "LayoutModel",
          "model_module_version": "1.2.0",
          "state": {
            "_model_module": "@jupyter-widgets/base",
            "_model_module_version": "1.2.0",
            "_model_name": "LayoutModel",
            "_view_count": null,
            "_view_module": "@jupyter-widgets/base",
            "_view_module_version": "1.2.0",
            "_view_name": "LayoutView",
            "align_content": null,
            "align_items": null,
            "align_self": null,
            "border": null,
            "bottom": null,
            "display": null,
            "flex": null,
            "flex_flow": null,
            "grid_area": null,
            "grid_auto_columns": null,
            "grid_auto_flow": null,
            "grid_auto_rows": null,
            "grid_column": null,
            "grid_gap": null,
            "grid_row": null,
            "grid_template_areas": null,
            "grid_template_columns": null,
            "grid_template_rows": null,
            "height": null,
            "justify_content": null,
            "justify_items": null,
            "left": null,
            "margin": null,
            "max_height": null,
            "max_width": null,
            "min_height": null,
            "min_width": null,
            "object_fit": null,
            "object_position": null,
            "order": null,
            "overflow": null,
            "overflow_x": null,
            "overflow_y": null,
            "padding": null,
            "right": null,
            "top": null,
            "visibility": null,
            "width": null
          }
        },
        "46a7e2206dd94aada7d3449a5e29b34e": {
          "model_module": "@jupyter-widgets/base",
          "model_name": "LayoutModel",
          "model_module_version": "1.2.0",
          "state": {
            "_model_module": "@jupyter-widgets/base",
            "_model_module_version": "1.2.0",
            "_model_name": "LayoutModel",
            "_view_count": null,
            "_view_module": "@jupyter-widgets/base",
            "_view_module_version": "1.2.0",
            "_view_name": "LayoutView",
            "align_content": null,
            "align_items": null,
            "align_self": null,
            "border": null,
            "bottom": null,
            "display": null,
            "flex": null,
            "flex_flow": null,
            "grid_area": null,
            "grid_auto_columns": null,
            "grid_auto_flow": null,
            "grid_auto_rows": null,
            "grid_column": null,
            "grid_gap": null,
            "grid_row": null,
            "grid_template_areas": null,
            "grid_template_columns": null,
            "grid_template_rows": null,
            "height": null,
            "justify_content": null,
            "justify_items": null,
            "left": null,
            "margin": null,
            "max_height": null,
            "max_width": null,
            "min_height": null,
            "min_width": null,
            "object_fit": null,
            "object_position": null,
            "order": null,
            "overflow": null,
            "overflow_x": null,
            "overflow_y": null,
            "padding": null,
            "right": null,
            "top": null,
            "visibility": null,
            "width": null
          }
        }
      }
    }
  },
  "nbformat": 4,
  "nbformat_minor": 0
}