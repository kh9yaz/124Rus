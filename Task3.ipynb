{
  "cells": [
    {
      "cell_type": "markdown",
      "metadata": {
        "id": "cQWNvF8vkcSQ"
      },
      "source": [
        "# Условная оптимизация"
      ]
    },
    {
      "cell_type": "markdown",
      "metadata": {
        "id": "IwioMA8ikcST"
      },
      "source": [
        "В предыдущей задаче мы рассматривали задачу с автомобиллем и полем. В ней не было никаких ограничений (собственно, в ней не было *явных* ограничений, например, *подразумевалось*, что автомобиль не выезжал за пределы поля).\n",
        "\n",
        "Такие задачи называются задачами безусловной оптимизации.\n",
        "\n",
        "Однако, в реальности могут ситуации, когда решение придется ограничить. Например, в той же задаче с автомобилем и полем у нас в автомобиле может быть ограниченное количество топлива, и нам по-прежнему необходимо пересечь поле за минимальное время, но так, чтобы нам хватило топлива.\n",
        "\n",
        "Собственно, в реальности такие задачи тоже возникают регулярно, например, в космической отрасли мы можем столкнуться с задачей выведения космического корабля на орбиту за минимальное время и с ограниченным запасом топлива."
      ]
    },
    {
      "cell_type": "markdown",
      "metadata": {
        "id": "Iczo_oQDkcSU"
      },
      "source": [
        "## Математическая постановка задачи\n",
        "\n",
        "Пусть дана функция $f(x_0, x_1, \\dots, x_n)$, зависящая от переменных $x_0, x_1, \\dots x_n$.\n",
        "\n",
        "Требуется минимизировать функцию $f(x_0, x_1, \\dots, x_n)$:\n",
        "\n",
        "$$\n",
        "\\min_{x_0, x_1, \\dots, x_n} f(x_0, x_1, \\dots, x_n)\n",
        "$$\n",
        "\n",
        "при выполнении условий\n",
        "$$\n",
        "g_i(x_0, x_1, \\dots, x_n) \\ge 0\n",
        "$$\n",
        "$$\n",
        "h_j(x_0, x_1, \\dots, x_n) = 0\n",
        "$$"
      ]
    },
    {
      "cell_type": "markdown",
      "metadata": {
        "id": "5FvyraWnkcSV"
      },
      "source": [
        "При работе в пакете SciPy подход к записи ограничений несколько иной: все ограничения записываются в виде\n",
        "\n",
        "$$\n",
        "c^L \\le g_i(x) \\le^U\n",
        "$$\n",
        "\n",
        "и\n",
        "\n",
        "$$\n",
        "x^L \\le x \\le x^U\n",
        "$$\n",
        "\n",
        "где $c^L$ и $x^L$ - нижние границы (константа в том и в другом случае), $c^U$ и $x^U$ - верхние границы.\n",
        "\n",
        "Сама функция для поиска минимума функции будет та же, `minimize`, а ограничения задаются через специальные объекты: `Bounds` для ограничений на переменные $x$, `LinearConstraint` для линейных функций-ограничений ($g(x)$), и `LinearConstraint` для нейлинейных (более подробно см в [статье по условной оптимизации](https://habr.com/ru/company/ods/blog/448054/))."
      ]
    },
    {
      "cell_type": "markdown",
      "metadata": {
        "id": "axHH_UEvkcSV"
      },
      "source": [
        "Рассмотрим решение задачи на примере:\n",
        "\n",
        "необходимо найти минимум функции\n",
        "$$\n",
        "f(x) = 3 \\cdot (x - 1) ^ 2 - 2\n",
        "$$\n",
        "\n",
        "при условии, что\n",
        "$$\n",
        "x - 1 \\ge 2\n",
        "$$\n",
        "\n",
        "Учитывая, что условие\n",
        "$$\n",
        "x - 1 \\ge 2\n",
        "$$\n",
        "\n",
        "можно переписать как\n",
        "\n",
        "$$\n",
        "2 \\le x - 1 \\le \\infty\n",
        "$$\n",
        "\n",
        "или, еще более формально,\n",
        "\n",
        "$$\n",
        "2 \\le 1 \\cdot x - 1 \\le \\infty\n",
        "$$\n",
        "\n",
        "\n",
        "Для того, чтобы правильно записать это ограничение, необходимо вспомнить матричную форму записи линейных алгебраических уравнений (см., например, [здесь](https://www.youtube.com/watch?v=yoG80Lf5Wik))\n",
        "\n",
        "К сожалению, функция `minimize` по умолчанию не умеет работать с ограничениями, и при запуске выдает ошибку. Для работы с ограничениями необходимо указать функции `minimize` использовать специальные методы.\n",
        "\n",
        "Функция `minimize` поддерживает три метода ооптимизации, для которых можно задать ограничения:\n",
        "\n",
        "* [COBYLA](https://en.wikipedia.org/wiki/COBYLA)\n",
        "* [SLSQP](https://ru.wikipedia.org/wiki/Последовательное_квадратичное_программирование)\n",
        "* [trust-constr](https://en.wikipedia.org/wiki/Trust_region)\n",
        "\n",
        "Рассмотрим пример:"
      ]
    },
    {
      "cell_type": "code",
      "execution_count": null,
      "metadata": {
        "id": "QldNXccokcSW",
        "outputId": "7c2bf203-d98d-42d6-d614-1cb803b0f9bf"
      },
      "outputs": [
        {
          "name": "stdout",
          "output_type": "stream",
          "text": [
            " barrier_parameter: 0.0008000000000000003\n",
            " barrier_tolerance: 0.0008000000000000003\n",
            "          cg_niter: 6\n",
            "      cg_stop_cond: 1\n",
            "            constr: [array([2.00013361])]\n",
            "       constr_nfev: [0]\n",
            "       constr_nhev: [0]\n",
            "       constr_njev: [0]\n",
            "    constr_penalty: 1.0\n",
            "  constr_violation: 0.0\n",
            "    execution_time: 0.07434725761413574\n",
            "               fun: 1.0008016993061024\n",
            "              grad: array([6.00080175])\n",
            "               jac: [array([[1]])]\n",
            "   lagrangian_grad: array([2.34199327e-10])\n",
            "           message: '`gtol` termination condition is satisfied.'\n",
            "            method: 'tr_interior_point'\n",
            "              nfev: 14\n",
            "              nhev: 0\n",
            "               nit: 10\n",
            "             niter: 10\n",
            "              njev: 7\n",
            "        optimality: 2.341993265986275e-10\n",
            "            status: 1\n",
            "           success: True\n",
            "         tr_radius: 875.0\n",
            "                 v: [array([-6.00080175])]\n",
            "                 x: array([2.00013361])\n"
          ]
        }
      ],
      "source": [
        "import numpy as np  # нам понадобится пакет numpy, чтобы использовать значение бесконечность (np.inf)\n",
        "import math  #\n",
        "from scipy.optimize import minimize  # берем готовую библиотечную функцию minimize\n",
        "from scipy.optimize import LinearConstraint  # будем использовать линейные ограничения\n",
        "\n",
        "# описываем функцию, которую хотим минимизировать\n",
        "def func_to_minimize(x):\n",
        "    return 3 * math.pow(x - 1, 2) - 2\n",
        "\n",
        "# задаем линейное ограничение\n",
        "constraint = LinearConstraint ([[1]], [3], [np.inf])  # первая матрица - это коэффициенты при x, в нашем случае - единица\n",
        "# вторая матрица - нижние границы, в нашем случае - 2, третья матрица - верхние ограничения\n",
        "# в нашем случае врехних ограничений нет, а занчит, верхнее ограничение равно бесконечности\n",
        "\n",
        "# Зададим начальное значение x\n",
        "x = 3  # подумайте, почему начально значение в данном случае равно трем\n",
        "\n",
        "# а теперь минимизируем нашу функцию\n",
        "result = minimize(func_to_minimize, x, method='trust-constr', constraints=[constraint])\n",
        "print(result)  # выведем наш результа на экран"
      ]
    },
    {
      "cell_type": "markdown",
      "metadata": {
        "id": "TrDo0HDckcSX"
      },
      "source": [
        "## Задание для самостоятельной работы\n",
        "\n",
        "Изменить код в ячейке ниже (код основан на предыдущей работе) таким образом, чтобы учитывлось ограничение на время движения (необходимо затратить не более 0.028 часа), и расход топлива был минимальным"
      ]
    },
    {
      "cell_type": "code",
      "execution_count": 9,
      "metadata": {
        "colab": {
          "base_uri": "https://localhost:8080/"
        },
        "id": "tLGFoj3HkcSX",
        "outputId": "72cf0852-222f-4b85-f09a-1f4c3764cf7b"
      },
      "outputs": [
        {
          "output_type": "stream",
          "name": "stdout",
          "text": [
            "           message: `gtol` termination condition is satisfied.\n",
            "           success: True\n",
            "            status: 1\n",
            "               fun: 0.1252808893093964\n",
            "                 x: [ 8.824e-01]\n",
            "               nit: 23\n",
            "              nfev: 32\n",
            "              njev: 16\n",
            "              nhev: 0\n",
            "          cg_niter: 15\n",
            "      cg_stop_cond: 1\n",
            "              grad: [ 1.060e-06]\n",
            "   lagrangian_grad: [ 2.536e-09]\n",
            "            constr: [array([ 2.735e-02])]\n",
            "               jac: [array([[-5.518e-04]])]\n",
            "       constr_nfev: [32]\n",
            "       constr_njev: [0]\n",
            "       constr_nhev: [0]\n",
            "                 v: [array([ 1.916e-03])]\n",
            "            method: tr_interior_point\n",
            "        optimality: 2.5362184301888304e-09\n",
            "  constr_violation: 0.0\n",
            "    execution_time: 0.03476309776306152\n",
            "         tr_radius: 66710.08007558646\n",
            "    constr_penalty: 1.0\n",
            " barrier_parameter: 1.2800000000000007e-06\n",
            " barrier_tolerance: 1.2800000000000007e-06\n",
            "             niter: 23\n"
          ]
        },
        {
          "output_type": "stream",
          "name": "stderr",
          "text": [
            "<ipython-input-9-689bea3d6412>:29: DeprecationWarning: Conversion of an array with ndim > 0 to a scalar is deprecated, and will error in future. Ensure you extract a single element from your array before performing this operation. (Deprecated NumPy 1.25.)\n",
            "  u1 = math.sqrt(h1 * h1 + x * x) * c1\n",
            "<ipython-input-9-689bea3d6412>:30: DeprecationWarning: Conversion of an array with ndim > 0 to a scalar is deprecated, and will error in future. Ensure you extract a single element from your array before performing this operation. (Deprecated NumPy 1.25.)\n",
            "  u2 = math.sqrt(h2 * h2 + (l - x) * (l - x)) * c2\n",
            "<ipython-input-9-689bea3d6412>:8: DeprecationWarning: Conversion of an array with ndim > 0 to a scalar is deprecated, and will error in future. Ensure you extract a single element from your array before performing this operation. (Deprecated NumPy 1.25.)\n",
            "  t1 = math.sqrt(h1 * h1 + x * x) / v1\n",
            "<ipython-input-9-689bea3d6412>:9: DeprecationWarning: Conversion of an array with ndim > 0 to a scalar is deprecated, and will error in future. Ensure you extract a single element from your array before performing this operation. (Deprecated NumPy 1.25.)\n",
            "  t2 = math.sqrt(h2 * h2 + (l - x) * (l - x)) / v2\n"
          ]
        }
      ],
      "source": [
        "import math  #\n",
        "from scipy.optimize import minimize  # берем готовую библиотечную функцию minimize\n",
        "from scipy.optimize import BFGS\n",
        "from scipy.optimize import NonlinearConstraint\n",
        "# задаим исходные данные в километрах\n",
        "\n",
        "def cons_t(x):\n",
        "  t1 = math.sqrt(h1 * h1 + x * x) / v1\n",
        "  t2 = math.sqrt(h2 * h2 + (l - x) * (l - x)) / v2\n",
        "  return t1 + t2\n",
        "\n",
        "from scipy.optimize import BFGS\n",
        "\n",
        "nonlinearConstraint = NonlinearConstraint(cons_t, 0, 0.028)\n",
        "\n",
        "h1 = 0.10  # 100 метров\n",
        "h2 = 0.10  # 100 метров\n",
        "l = 1  # 1000 метров\n",
        "\n",
        "v1 = 40  # 40 км/ч\n",
        "v2 = 30  # 30 км/ч\n",
        "\n",
        "c1 = 0.115  # л/км\n",
        "c2 = 0.15  # л/км\n",
        "\n",
        "# описываем функцию, которую хотим минимизировать\n",
        "\n",
        "def func_to_minimize(x):\n",
        "  u1 = math.sqrt(h1 * h1 + x * x) * c1\n",
        "  u2 = math.sqrt(h2 * h2 + (l - x) * (l - x)) * c2\n",
        "  return u1 + u2 # вставьте вашу функцию здесь\n",
        "\n",
        "# Зададим начальное значение x, пусть это будет самое начало поля, т.е., вначале мы поедем вериткально вверх,\n",
        "# а затем, как только достигнем конца засеянной части, кратчайшим путем поедем в правый верхний угол поля\n",
        "x = 0\n",
        "\n",
        "# а теперь минимизируем нашу функцию\n",
        "result = minimize(func_to_minimize, x, method='trust-constr', constraints = [nonlinearConstraint])\n",
        "print(result)  # выведем наш результа на экран"
      ]
    }
  ],
  "metadata": {
    "kernelspec": {
      "display_name": "Python 3",
      "language": "python",
      "name": "python3"
    },
    "language_info": {
      "codemirror_mode": {
        "name": "ipython",
        "version": 3
      },
      "file_extension": ".py",
      "mimetype": "text/x-python",
      "name": "python",
      "nbconvert_exporter": "python",
      "pygments_lexer": "ipython3",
      "version": "3.8.5"
    },
    "colab": {
      "provenance": []
    }
  },
  "nbformat": 4,
  "nbformat_minor": 0
}