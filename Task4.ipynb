{
  "cells": [
    {
      "cell_type": "markdown",
      "metadata": {
        "id": "view-in-github",
        "colab_type": "text"
      },
      "source": [
        "<a href=\"https://colab.research.google.com/github/kh9yaz/124Rus/blob/master/Task4.ipynb\" target=\"_parent\"><img src=\"https://colab.research.google.com/assets/colab-badge.svg\" alt=\"Open In Colab\"/></a>"
      ]
    },
    {
      "cell_type": "markdown",
      "metadata": {
        "id": "aJK2_HuOyKAJ"
      },
      "source": [
        "# Условная оптимизация"
      ]
    },
    {
      "cell_type": "markdown",
      "metadata": {
        "id": "w2C8wv9PyKAL"
      },
      "source": [
        "## Метод штрафных функций\n",
        "\n",
        "В предыдущей работе нам было необходимо не только решить задачу оптимизации, но и учесть ораничения на возможные решения.\n",
        "\n",
        "Как вы могли заметить, не все методы оптимизации из тех, которые доступны в пакете SciPy, поддерживают условную оптимизацию, при этом для некоторых задач одни методы более предпочтительны, чем другие, и может так оказаться, что для решения именно вашей задачи тот метод, который поддерживает условную оптимизацию, неприменим, а ограничения все-таки есть.\n",
        "\n",
        "В этом случае на помощь приходят методы штрафных функций и барьерных поверхностей.\n",
        "\n",
        "Основная идея у этих методов очень похожа, и заключается в том, что ограничения включаются прямо в оптимизируемую функцию, и делают ее тем более неоптимальной, чем дальше решение заходит в запрещенную область.\n",
        "\n",
        "Разница между этими методами состоит в том, где находится исходная точка, с которой начинается поиск оптимального решения. В случае метода штрафных функций начальная точка не обязана находиться внутри зоны допустимых с точки зрения ограничений решений, а в случае барьерных функций - должна обязательно. Связано это с тем, что барьерные функции за пределами границы вновь уменьшаются, а штрафные функции проболжают возрастать тем больше, чем дальше за пределы границы вышла текущая точка.\n",
        "\n",
        "Например, необходимо найти минимум функции $f(x) = (x - 2)^2 + 1$.\n",
        "\n",
        "Мы знаем, что минимум данной функции находится в точке  $x = 2$, и значение минимизируемой функции в ней равно $1$.\n",
        "\n",
        "Допустим, что существует ограничение $-\\infty x \\le 1$. В этом случае минимум функции будет как раз в точке 1.\n",
        "\n",
        "Попробуем ввести барьерную функцию. Требования к ней просты: в допустимой зоне ее значение должно быть близким к нулю, чтобы не оказывать влияния на целевую функцию, а в запрещенной зоне ее значение должно увеличиваться.\n",
        "\n",
        "Введем функцию $g(x) = \\frac {1} {1 - x}$. Ее особенность состоит в том, что внутри целевого диапазона она достаточно мала, а при приближении к границе (число 1), начинает возрастать (поскольку $\\frac {1} / {1 - 1}$ становится равной бесконечности).\n",
        "\n",
        "Таким образом, целевая функция теперь приобретает вот такой вид:\n",
        "\n",
        "$$\n",
        "f(x) = (x - 2)^2 + 1 + \\frac {1} {1 - x}\n",
        "$$\n",
        "\n",
        "Казалось бы, все хорошо? На самом деле, нет.\n",
        "\n",
        "Дело в том, что для данного случая проблема заключается вот в чем: минимум нашей фукнции находится в точке $x = 1$ (мы помним, что на смом деле в точке $x = 2$, но у нас есть ограничение $-\\infty x \\le 1$, соответственно, минимум будет именно в точке $x = 1$). Однако, если мы используем ограничения..."
      ]
    },
    {
      "cell_type": "code",
      "execution_count": null,
      "metadata": {
        "id": "H3B0yjpsyKAN"
      },
      "outputs": [],
      "source": [
        "import numpy as np  # нам понадобится пакет numpy, чтобы использовать значение бесконечность (np.inf)\n",
        "import math  #\n",
        "from scipy.optimize import minimize  # берем готовую библиотечную функцию minimize\n",
        "from scipy.optimize import LinearConstraint  # будем использовать линейные ограничения"
      ]
    },
    {
      "cell_type": "code",
      "execution_count": null,
      "metadata": {
        "id": "b9i6sNV-yKAO",
        "outputId": "8aa415a3-b418-4434-98c7-448778393edb"
      },
      "outputs": [
        {
          "name": "stdout",
          "output_type": "stream",
          "text": [
            "      fun: 6.0\n",
            " hess_inv: array([[1]])\n",
            "      jac: array([-3.])\n",
            "  message: 'Desired error not necessarily achieved due to precision loss.'\n",
            "     nfev: 174\n",
            "      nit: 0\n",
            "     njev: 83\n",
            "   status: 2\n",
            "  success: False\n",
            "        x: array([0.])\n"
          ]
        }
      ],
      "source": [
        "# описываем функцию, которую хотим минимизировать\n",
        "def func_to_minimize(x):\n",
        "    return (x - 2) * (x - 2) + 1 + 1 / (1 - x)\n",
        "\n",
        "# Зададим начальное значение x\n",
        "x = 0  # подумайте, почему начально значение в данном случае равно трем\n",
        "\n",
        "# а теперь минимизируем нашу функцию\n",
        "result = minimize(func_to_minimize, x)\n",
        "print(result)  # выведем наш результа на экран"
      ]
    },
    {
      "cell_type": "markdown",
      "metadata": {
        "id": "PyO9Jw6lyKAO"
      },
      "source": [
        "... то окажется, что минимум оказался в точке $0$. Не совсем тот результат, что мы ожидали.\n",
        "\n",
        "Исправить положение можно либо изменив барьерную функцию так, чтобы она возрастала очень резко по мере приближения к границе запретной зоны, либо добавив специальный коэффициент $\\alpha$, снизив влияние барьерной функции:\n",
        "\n",
        "$$\n",
        "f(x) = (x - 2)^2 + 1 + \\alpha \\cdot \\frac {1} {1 - x}\n",
        "$$\n",
        "\n",
        "Попробуем:"
      ]
    },
    {
      "cell_type": "code",
      "execution_count": null,
      "metadata": {
        "id": "8w5mpzVvyKAP",
        "outputId": "7a7e9934-0671-4578-9818-f6010cbf1199"
      },
      "outputs": [
        {
          "name": "stdout",
          "output_type": "stream",
          "text": [
            "      fun: 1.115695243467632\n",
            " hess_inv: array([[0.15946138]])\n",
            "      jac: array([1.47203085])\n",
            "  message: 'Desired error not necessarily achieved due to precision loss.'\n",
            "     nfev: 199\n",
            "      nit: 2\n",
            "     njev: 97\n",
            "   status: 2\n",
            "  success: False\n",
            "        x: array([1.17921244])\n"
          ]
        }
      ],
      "source": [
        "alpha = 0.1\n",
        "\n",
        "# описываем функцию, которую хотим минимизировать\n",
        "def func_to_minimize(x):\n",
        "    return (x - 2) * (x - 2) + 1 + alpha * 1 / (1 - x)\n",
        "\n",
        "# Зададим начальное значение x\n",
        "x = 0  # подумайте, почему начально значение в данном случае равно трем\n",
        "\n",
        "# а теперь минимизируем нашу функцию\n",
        "result = minimize(func_to_minimize, x)\n",
        "print(result)  # выведем наш результа на экран"
      ]
    },
    {
      "cell_type": "markdown",
      "metadata": {
        "id": "XA67zFrkyKAP"
      },
      "source": [
        "Как видим, результат оказался гораздо лучше, хоть и неидеальным."
      ]
    },
    {
      "cell_type": "markdown",
      "metadata": {
        "id": "dDswlJ79yKAQ"
      },
      "source": [
        "## Задание для самостоятельной работы\n",
        "\n",
        "Изменить код в ячейке ниже (код основан на предыдущей работе) таким образом, чтобы учитывлось ограничение на время движения (необходимо затратить не более 0.028 часа), и расход топлива был минимальным, при условии использования штрафных или барьерных функций"
      ]
    },
    {
      "cell_type": "code",
      "execution_count": 2,
      "metadata": {
        "id": "G0zsQpxtyKAQ",
        "outputId": "bce3a42c-6969-4495-8d33-46b6cfcfb306",
        "colab": {
          "base_uri": "https://localhost:8080/"
        }
      },
      "outputs": [
        {
          "output_type": "stream",
          "name": "stdout",
          "text": [
            "Оптимальное значение x: 0.8824076942120102\n",
            "Минимальные затраты на топливо: 0.1252808893080318\n"
          ]
        },
        {
          "output_type": "stream",
          "name": "stderr",
          "text": [
            "<ipython-input-2-8243a7e11788>:31: DeprecationWarning: Conversion of an array with ndim > 0 to a scalar is deprecated, and will error in future. Ensure you extract a single element from your array before performing this operation. (Deprecated NumPy 1.25.)\n",
            "  u1 = math.sqrt(h1 * h1 + x * x) * c1\n",
            "<ipython-input-2-8243a7e11788>:32: DeprecationWarning: Conversion of an array with ndim > 0 to a scalar is deprecated, and will error in future. Ensure you extract a single element from your array before performing this operation. (Deprecated NumPy 1.25.)\n",
            "  u2 = math.sqrt(h2 * h2 + (l - x) * (l - x)) * c2\n",
            "<ipython-input-2-8243a7e11788>:17: DeprecationWarning: Conversion of an array with ndim > 0 to a scalar is deprecated, and will error in future. Ensure you extract a single element from your array before performing this operation. (Deprecated NumPy 1.25.)\n",
            "  t1 = math.sqrt(h1 * h1 + x * x) / v1\n",
            "<ipython-input-2-8243a7e11788>:18: DeprecationWarning: Conversion of an array with ndim > 0 to a scalar is deprecated, and will error in future. Ensure you extract a single element from your array before performing this operation. (Deprecated NumPy 1.25.)\n",
            "  t2 = math.sqrt(h2 * h2 + (l - x) * (l - x)) / v2\n"
          ]
        }
      ],
      "source": [
        "import math  #\n",
        "from scipy.optimize import minimize  # берем готовую библиотечную функцию minimize\n",
        "\n",
        "# задаим исходные данные в километрах\n",
        "\n",
        "h1 = 0.10  # 100 метров\n",
        "h2 = 0.10  # 100 метров\n",
        "l = 1  # 1000 метров\n",
        "\n",
        "v1 = 40  # 40 км/ч\n",
        "v2 = 30  # 30 км/ч\n",
        "\n",
        "c1 = 0.115  # л/км\n",
        "c2 = 0.15  # л/км\n",
        "\n",
        "def cons_t(x): #Функция для расчета времени\n",
        "  t1 = math.sqrt(h1 * h1 + x * x) / v1\n",
        "  t2 = math.sqrt(h2 * h2 + (l - x) * (l - x)) / v2\n",
        "  return t1 + t2\n",
        "\n",
        "# Штрафная функция для учета ограничений\n",
        "def penalty_function(x):\n",
        "    penalty = 0 # Если время превышает 0.028, добавляем штраф\n",
        "    if cons_t(x) > 0.028:\n",
        "        penalty = (cons_t(x) - 0.028) ** 2  # Квадрат штрафа\n",
        "    return penalty\n",
        "\n",
        "# описываем функцию, которую хотим минимизировать\n",
        "\n",
        "def func_to_minimize(x):\n",
        "  u1 = math.sqrt(h1 * h1 + x * x) * c1\n",
        "  u2 = math.sqrt(h2 * h2 + (l - x) * (l - x)) * c2\n",
        "  return u1 + u2 + penalty_function(x) # вставьте вашу функцию здесь\n",
        "\n",
        "# Зададим начальное значение x, пусть это будет самое начало поля, т.е., вначале мы поедем вериткально вверх,\n",
        "# а затем, как только достигнем конца засеянной части, кратчайшим путем поедем в правый верхний угол поля\n",
        "x = 0\n",
        "\n",
        "# а теперь минимизируем нашу функцию\n",
        "result = minimize(func_to_minimize, x, method='trust-constr')\n",
        "\n",
        "if result.success:\n",
        "    print(\"Оптимальное значение x:\", result.x[0])\n",
        "    print(\"Минимальные затраты на топливо:\", result.fun)\n",
        "else:\n",
        "    print(\"Минимизация не удалась:\", result.message)"
      ]
    }
  ],
  "metadata": {
    "kernelspec": {
      "display_name": "Python 3",
      "language": "python",
      "name": "python3"
    },
    "language_info": {
      "codemirror_mode": {
        "name": "ipython",
        "version": 3
      },
      "file_extension": ".py",
      "mimetype": "text/x-python",
      "name": "python",
      "nbconvert_exporter": "python",
      "pygments_lexer": "ipython3",
      "version": "3.8.5"
    },
    "colab": {
      "provenance": [],
      "include_colab_link": true
    }
  },
  "nbformat": 4,
  "nbformat_minor": 0
}